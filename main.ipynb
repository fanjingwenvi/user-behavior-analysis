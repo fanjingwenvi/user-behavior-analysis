{
 "cells": [
  {
   "cell_type": "code",
   "execution_count": 2,
   "metadata": {},
   "outputs": [],
   "source": [
    "import pandas as pd "
   ]
  },
  {
   "cell_type": "code",
   "execution_count": 5,
   "metadata": {},
   "outputs": [],
   "source": [
    "df = pd.read_csv('UserBehavior.csv')"
   ]
  },
  {
   "cell_type": "code",
   "execution_count": 6,
   "metadata": {},
   "outputs": [
    {
     "name": "stdout",
     "output_type": "stream",
     "text": [
      "<class 'pandas.core.frame.DataFrame'>\n",
      "RangeIndex: 100150806 entries, 0 to 100150805\n",
      "Data columns (total 5 columns):\n",
      " #   Column      Dtype \n",
      "---  ------      ----- \n",
      " 0   1           int64 \n",
      " 1   2268318     int64 \n",
      " 2   2520377     int64 \n",
      " 3   pv          object\n",
      " 4   1511544070  int64 \n",
      "dtypes: int64(4), object(1)\n",
      "memory usage: 3.7+ GB\n"
     ]
    }
   ],
   "source": [
    "df.info()"
   ]
  },
  {
   "cell_type": "code",
   "execution_count": 7,
   "metadata": {},
   "outputs": [
    {
     "data": {
      "text/plain": [
       "<bound method NDFrame.head of                 1  2268318  2520377  pv  1511544070\n",
       "0               1  2333346  2520771  pv  1511561733\n",
       "1               1  2576651   149192  pv  1511572885\n",
       "2               1  3830808  4181361  pv  1511593493\n",
       "3               1  4365585  2520377  pv  1511596146\n",
       "4               1  4606018  2735466  pv  1511616481\n",
       "...           ...      ...      ...  ..         ...\n",
       "100150801  999999  4797808    11120  pv  1512293403\n",
       "100150802  999999  4613472  4602841  pv  1512293766\n",
       "100150803  999999  3647364  2304296  pv  1512293792\n",
       "100150804  999999  1903801  2304296  pv  1512293827\n",
       "100150805  999999  3696094  4602841  pv  1512293891\n",
       "\n",
       "[100150806 rows x 5 columns]>"
      ]
     },
     "execution_count": 7,
     "metadata": {},
     "output_type": "execute_result"
    }
   ],
   "source": [
    "df.head"
   ]
  },
  {
   "cell_type": "code",
   "execution_count": null,
   "metadata": {},
   "outputs": [],
   "source": [
    "## pandas is relatively fast "
   ]
  }
 ],
 "metadata": {
  "kernelspec": {
   "display_name": "Python 3",
   "language": "python",
   "name": "python3"
  },
  "language_info": {
   "codemirror_mode": {
    "name": "ipython",
    "version": 3
   },
   "file_extension": ".py",
   "mimetype": "text/x-python",
   "name": "python",
   "nbconvert_exporter": "python",
   "pygments_lexer": "ipython3",
   "version": "3.8.3"
  }
 },
 "nbformat": 4,
 "nbformat_minor": 4
}
