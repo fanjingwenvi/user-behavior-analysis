{
 "cells": [
  {
   "cell_type": "code",
   "execution_count": 1,
   "id": "ddd5b06c",
   "metadata": {
    "execution": {
     "iopub.execute_input": "2022-07-06T01:03:10.422279Z",
     "iopub.status.busy": "2022-07-06T01:03:10.421839Z",
     "iopub.status.idle": "2022-07-06T01:03:10.439933Z",
     "shell.execute_reply": "2022-07-06T01:03:10.439223Z"
    },
    "papermill": {
     "duration": 0.045643,
     "end_time": "2022-07-06T01:03:10.442267",
     "exception": false,
     "start_time": "2022-07-06T01:03:10.396624",
     "status": "completed"
    },
    "tags": []
   },
   "outputs": [
    {
     "data": {
      "text/plain": [
       "'\\nimport pandas as pd\\n%time \\ncolumn_names = [\"user_id\", \"item_id\", \"category_id\", \"behavior_type\", \"input_timestamp\"]\\ndf=pd.read_csv(\"../input/userdata/UserBehavior.csv\",                 names = (\"user_id\", \"item_id\", \"category_id\", \"behavior_type\", \"input_timestamp\")) \\n'"
      ]
     },
     "execution_count": 1,
     "metadata": {},
     "output_type": "execute_result"
    }
   ],
   "source": [
    "'''\n",
    "import pandas as pd\n",
    "%time \n",
    "column_names = [\"user_id\", \"item_id\", \"category_id\", \"behavior_type\", \"input_timestamp\"]\n",
    "df=pd.read_csv(\"../input/userdata/UserBehavior.csv\", \\\n",
    "                names = (\"user_id\", \"item_id\", \"category_id\", \"behavior_type\", \"input_timestamp\")) \n",
    "'''"
   ]
  },
  {
   "cell_type": "code",
   "execution_count": 2,
   "id": "d7e09bb6",
   "metadata": {
    "execution": {
     "iopub.execute_input": "2022-07-06T01:03:10.493546Z",
     "iopub.status.busy": "2022-07-06T01:03:10.493118Z",
     "iopub.status.idle": "2022-07-06T01:04:01.312901Z",
     "shell.execute_reply": "2022-07-06T01:04:01.311519Z"
    },
    "papermill": {
     "duration": 50.850726,
     "end_time": "2022-07-06T01:04:01.315777",
     "exception": false,
     "start_time": "2022-07-06T01:03:10.465051",
     "status": "completed"
    },
    "tags": []
   },
   "outputs": [
    {
     "name": "stdout",
     "output_type": "stream",
     "text": [
      "Collecting pyspark\r\n",
      "  Downloading pyspark-3.3.0.tar.gz (281.3 MB)\r\n",
      "\u001b[2K     \u001b[90m━━━━━━━━━━━━━━━━━━━━━━━━━━━━━━━━━━━━━━━\u001b[0m \u001b[32m281.3/281.3 MB\u001b[0m \u001b[31m4.4 MB/s\u001b[0m eta \u001b[36m0:00:00\u001b[0m\r\n",
      "\u001b[?25h  Preparing metadata (setup.py) ... \u001b[?25l-\b \bdone\r\n",
      "\u001b[?25hRequirement already satisfied: py4j==0.10.9.5 in /opt/conda/lib/python3.7/site-packages (from pyspark) (0.10.9.5)\r\n",
      "Building wheels for collected packages: pyspark\r\n",
      "  Building wheel for pyspark (setup.py) ... \u001b[?25l-\b \b\\\b \b|\b \b/\b \b-\b \b\\\b \b|\b \b/\b \b-\b \b\\\b \b|\b \b/\b \b-\b \b\\\b \b|\b \b/\b \b-\b \b\\\b \b|\b \b/\b \b-\b \b\\\b \b|\b \b/\b \b-\b \b\\\b \b|\b \b/\b \b-\b \b\\\b \b|\b \b/\b \b-\b \b\\\b \b|\b \b/\b \b-\b \b\\\b \b|\b \b/\b \b-\b \b\\\b \b|\b \b/\b \b-\b \b\\\b \b|\b \b/\b \b-\b \b\\\b \b|\b \b/\b \b-\b \bdone\r\n",
      "\u001b[?25h  Created wheel for pyspark: filename=pyspark-3.3.0-py2.py3-none-any.whl size=281764026 sha256=9fa7f6966ffa5bfc12434d3dceda28e414cc13b86ae6710ef0cb46fa3270c55d\r\n",
      "  Stored in directory: /root/.cache/pip/wheels/7a/8e/1b/f73a52650d2e5f337708d9f6a1750d451a7349a867f928b885\r\n",
      "Successfully built pyspark\r\n",
      "Installing collected packages: pyspark\r\n",
      "Successfully installed pyspark-3.3.0\r\n",
      "\u001b[33mWARNING: Running pip as the 'root' user can result in broken permissions and conflicting behaviour with the system package manager. It is recommended to use a virtual environment instead: https://pip.pypa.io/warnings/venv\u001b[0m\u001b[33m\r\n",
      "\u001b[0mCollecting findspark\r\n",
      "  Downloading findspark-2.0.1-py2.py3-none-any.whl (4.4 kB)\r\n",
      "Installing collected packages: findspark\r\n",
      "Successfully installed findspark-2.0.1\r\n",
      "\u001b[33mWARNING: Running pip as the 'root' user can result in broken permissions and conflicting behaviour with the system package manager. It is recommended to use a virtual environment instead: https://pip.pypa.io/warnings/venv\u001b[0m\u001b[33m\r\n",
      "\u001b[0m"
     ]
    }
   ],
   "source": [
    "!pip install pyspark\n",
    "!pip install findspark"
   ]
  },
  {
   "cell_type": "code",
   "execution_count": 3,
   "id": "e820399d",
   "metadata": {
    "execution": {
     "iopub.execute_input": "2022-07-06T01:04:01.394052Z",
     "iopub.status.busy": "2022-07-06T01:04:01.392574Z",
     "iopub.status.idle": "2022-07-06T01:04:07.055534Z",
     "shell.execute_reply": "2022-07-06T01:04:07.054716Z"
    },
    "papermill": {
     "duration": 5.704523,
     "end_time": "2022-07-06T01:04:07.058074",
     "exception": false,
     "start_time": "2022-07-06T01:04:01.353551",
     "status": "completed"
    },
    "tags": []
   },
   "outputs": [
    {
     "name": "stderr",
     "output_type": "stream",
     "text": [
      "Setting default log level to \"WARN\".\n",
      "To adjust logging level use sc.setLogLevel(newLevel). For SparkR, use setLogLevel(newLevel).\n"
     ]
    },
    {
     "name": "stdout",
     "output_type": "stream",
     "text": [
      "22/07/06 01:04:04 WARN NativeCodeLoader: Unable to load native-hadoop library for your platform... using builtin-java classes where applicable\n"
     ]
    }
   ],
   "source": [
    "import findspark\n",
    "findspark.init()\n",
    "from pyspark.sql import SparkSession\n",
    "spark = SparkSession.builder.master(\"local[*]\").enableHiveSupport().getOrCreate()\n",
    "## spark = SparkSession.builder.appName(\"SparkSQLExampleApp\") .getOrCreate()\n",
    "\n",
    "spark.conf.set(\"spark.sql.legacy.createHiveTableByDefault\", False)\n",
    "spark.conf.set(\"spark.sql.repl.eagerEval.enabled\", True) # Property used to format output tables better\n",
    "spark.conf.set(\"spark.sql.session.timeZone\", 'UTC+08:00') ## SET TIME ZONE 'Asia/Shanghai';"
   ]
  },
  {
   "cell_type": "code",
   "execution_count": 4,
   "id": "224109fe",
   "metadata": {
    "execution": {
     "iopub.execute_input": "2022-07-06T01:04:07.123350Z",
     "iopub.status.busy": "2022-07-06T01:04:07.122362Z",
     "iopub.status.idle": "2022-07-06T01:04:07.128513Z",
     "shell.execute_reply": "2022-07-06T01:04:07.127726Z"
    },
    "papermill": {
     "duration": 0.048254,
     "end_time": "2022-07-06T01:04:07.130403",
     "exception": false,
     "start_time": "2022-07-06T01:04:07.082149",
     "status": "completed"
    },
    "tags": []
   },
   "outputs": [],
   "source": [
    "import time \n",
    "##  %time  next line \n",
    "##  %%time  whole cell \n",
    "from pyspark.sql.functions import *\n",
    "from pyspark.sql.types import ByteType, IntegerType, DateType, StringType"
   ]
  },
  {
   "cell_type": "code",
   "execution_count": 5,
   "id": "bc20a099",
   "metadata": {
    "execution": {
     "iopub.execute_input": "2022-07-06T01:04:07.176704Z",
     "iopub.status.busy": "2022-07-06T01:04:07.176025Z",
     "iopub.status.idle": "2022-07-06T01:04:11.581111Z",
     "shell.execute_reply": "2022-07-06T01:04:11.580255Z"
    },
    "papermill": {
     "duration": 4.430857,
     "end_time": "2022-07-06T01:04:11.583570",
     "exception": false,
     "start_time": "2022-07-06T01:04:07.152713",
     "status": "completed"
    },
    "tags": []
   },
   "outputs": [
    {
     "data": {
      "text/plain": [
       "['_c0', '_c1', '_c2', '_c3', '_c4']"
      ]
     },
     "execution_count": 5,
     "metadata": {},
     "output_type": "execute_result"
    }
   ],
   "source": [
    "df=spark.read.csv(\"../input/userdata/UserBehavior.csv\") \n",
    "df.schema.names"
   ]
  },
  {
   "cell_type": "markdown",
   "id": "a9bcc36c",
   "metadata": {
    "papermill": {
     "duration": 0.037436,
     "end_time": "2022-07-06T01:04:11.659655",
     "exception": false,
     "start_time": "2022-07-06T01:04:11.622219",
     "status": "completed"
    },
    "tags": []
   },
   "source": [
    "## 1. Data Cleaning "
   ]
  },
  {
   "cell_type": "code",
   "execution_count": 6,
   "id": "692f71ca",
   "metadata": {
    "execution": {
     "iopub.execute_input": "2022-07-06T01:04:11.737402Z",
     "iopub.status.busy": "2022-07-06T01:04:11.736464Z",
     "iopub.status.idle": "2022-07-06T01:04:11.758180Z",
     "shell.execute_reply": "2022-07-06T01:04:11.757306Z"
    },
    "papermill": {
     "duration": 0.063482,
     "end_time": "2022-07-06T01:04:11.760979",
     "exception": false,
     "start_time": "2022-07-06T01:04:11.697497",
     "status": "completed"
    },
    "tags": []
   },
   "outputs": [],
   "source": [
    "## 1.1 column name \n",
    "df = df.toDF(\"user_id\", \"item_id\", \"category_id\", \"behavior_type\", \"input_timestamp\")"
   ]
  },
  {
   "cell_type": "code",
   "execution_count": 7,
   "id": "3a876c05",
   "metadata": {
    "execution": {
     "iopub.execute_input": "2022-07-06T01:04:11.838006Z",
     "iopub.status.busy": "2022-07-06T01:04:11.837299Z",
     "iopub.status.idle": "2022-07-06T01:04:11.878639Z",
     "shell.execute_reply": "2022-07-06T01:04:11.877761Z"
    },
    "papermill": {
     "duration": 0.082747,
     "end_time": "2022-07-06T01:04:11.881150",
     "exception": false,
     "start_time": "2022-07-06T01:04:11.798403",
     "status": "completed"
    },
    "tags": []
   },
   "outputs": [],
   "source": [
    "## 1.2 data format \n",
    "## Unix time - Epoch time - seconds passed since Epoch time 1970-01-01 00:00:00 UTC. \n",
    "## do not put show at the end \n",
    "df = df.withColumn(\"tt\", from_unixtime(\"input_timestamp\"))"
   ]
  },
  {
   "cell_type": "code",
   "execution_count": 8,
   "id": "471dd96a",
   "metadata": {
    "execution": {
     "iopub.execute_input": "2022-07-06T01:04:11.957497Z",
     "iopub.status.busy": "2022-07-06T01:04:11.957169Z",
     "iopub.status.idle": "2022-07-06T01:04:12.008969Z",
     "shell.execute_reply": "2022-07-06T01:04:12.008087Z"
    },
    "papermill": {
     "duration": 0.092977,
     "end_time": "2022-07-06T01:04:12.011816",
     "exception": false,
     "start_time": "2022-07-06T01:04:11.918839",
     "status": "completed"
    },
    "tags": []
   },
   "outputs": [],
   "source": [
    "df = df.withColumn(\"d\", to_date(\"tt\")).withColumn(\"h\", hour(\"tt\"))\n",
    "## df.withColumn(\"hour\", substring(\"timestamp\", 0, 13)).show()"
   ]
  },
  {
   "cell_type": "code",
   "execution_count": 9,
   "id": "a8800e68",
   "metadata": {
    "execution": {
     "iopub.execute_input": "2022-07-06T01:04:12.057909Z",
     "iopub.status.busy": "2022-07-06T01:04:12.057622Z",
     "iopub.status.idle": "2022-07-06T01:04:12.076215Z",
     "shell.execute_reply": "2022-07-06T01:04:12.075475Z"
    },
    "papermill": {
     "duration": 0.043927,
     "end_time": "2022-07-06T01:04:12.078579",
     "exception": false,
     "start_time": "2022-07-06T01:04:12.034652",
     "status": "completed"
    },
    "tags": []
   },
   "outputs": [],
   "source": [
    "df = df.drop(\"input_timestamp\", \"tt\") "
   ]
  },
  {
   "cell_type": "code",
   "execution_count": 10,
   "id": "c85378ea",
   "metadata": {
    "execution": {
     "iopub.execute_input": "2022-07-06T01:04:12.155391Z",
     "iopub.status.busy": "2022-07-06T01:04:12.154785Z",
     "iopub.status.idle": "2022-07-06T01:04:12.553115Z",
     "shell.execute_reply": "2022-07-06T01:04:12.551961Z"
    },
    "papermill": {
     "duration": 0.439326,
     "end_time": "2022-07-06T01:04:12.555650",
     "exception": false,
     "start_time": "2022-07-06T01:04:12.116324",
     "status": "completed"
    },
    "tags": []
   },
   "outputs": [
    {
     "name": "stdout",
     "output_type": "stream",
     "text": [
      "+-------+-------+-----------+-------------+----------+---+\n",
      "|user_id|item_id|category_id|behavior_type|         d|  h|\n",
      "+-------+-------+-----------+-------------+----------+---+\n",
      "|      1|2268318|    2520377|           pv|2017-11-25|  1|\n",
      "|      1|2333346|    2520771|           pv|2017-11-25|  6|\n",
      "|      1|2576651|     149192|           pv|2017-11-25|  9|\n",
      "|      1|3830808|    4181361|           pv|2017-11-25| 15|\n",
      "|      1|4365585|    2520377|           pv|2017-11-25| 15|\n",
      "+-------+-------+-----------+-------------+----------+---+\n",
      "only showing top 5 rows\n",
      "\n"
     ]
    }
   ],
   "source": [
    "df.show(5)"
   ]
  },
  {
   "cell_type": "code",
   "execution_count": 11,
   "id": "d686cfed",
   "metadata": {
    "execution": {
     "iopub.execute_input": "2022-07-06T01:04:12.636001Z",
     "iopub.status.busy": "2022-07-06T01:04:12.635529Z",
     "iopub.status.idle": "2022-07-06T01:04:12.717220Z",
     "shell.execute_reply": "2022-07-06T01:04:12.716393Z"
    },
    "papermill": {
     "duration": 0.12278,
     "end_time": "2022-07-06T01:04:12.719846",
     "exception": false,
     "start_time": "2022-07-06T01:04:12.597066",
     "status": "completed"
    },
    "tags": []
   },
   "outputs": [],
   "source": [
    "## 1.2 Data Type\n",
    "df = df.withColumn(\"user_id\",col(\"user_id\").cast(\"Integer\")).withColumn(\"item_id\",col(\"item_id\").cast(\"Integer\"))\n",
    "df = df.withColumn(\"category_id\",col(\"category_id\").cast(\"Integer\"))\n",
    "df = df.withColumn(\"d\",col(\"d\").cast(\"Date\")).withColumn(\"h\", col(\"h\").cast(\"Integer\"))"
   ]
  },
  {
   "cell_type": "code",
   "execution_count": 12,
   "id": "43eab1d4",
   "metadata": {
    "execution": {
     "iopub.execute_input": "2022-07-06T01:04:12.795485Z",
     "iopub.status.busy": "2022-07-06T01:04:12.794976Z",
     "iopub.status.idle": "2022-07-06T01:04:12.801248Z",
     "shell.execute_reply": "2022-07-06T01:04:12.800428Z"
    },
    "papermill": {
     "duration": 0.045933,
     "end_time": "2022-07-06T01:04:12.803254",
     "exception": false,
     "start_time": "2022-07-06T01:04:12.757321",
     "status": "completed"
    },
    "tags": []
   },
   "outputs": [
    {
     "name": "stdout",
     "output_type": "stream",
     "text": [
      "root\n",
      " |-- user_id: integer (nullable = true)\n",
      " |-- item_id: integer (nullable = true)\n",
      " |-- category_id: integer (nullable = true)\n",
      " |-- behavior_type: string (nullable = true)\n",
      " |-- d: date (nullable = true)\n",
      " |-- h: integer (nullable = true)\n",
      "\n"
     ]
    }
   ],
   "source": [
    "df.printSchema()"
   ]
  },
  {
   "cell_type": "code",
   "execution_count": 13,
   "id": "3d4e0124",
   "metadata": {
    "execution": {
     "iopub.execute_input": "2022-07-06T01:04:12.849290Z",
     "iopub.status.busy": "2022-07-06T01:04:12.848612Z",
     "iopub.status.idle": "2022-07-06T01:04:12.853245Z",
     "shell.execute_reply": "2022-07-06T01:04:12.852385Z"
    },
    "papermill": {
     "duration": 0.02955,
     "end_time": "2022-07-06T01:04:12.855073",
     "exception": false,
     "start_time": "2022-07-06T01:04:12.825523",
     "status": "completed"
    },
    "tags": []
   },
   "outputs": [],
   "source": [
    "## 1.3 null value \n",
    "\n",
    "## df.filter(df.user_id.isNull() & df.item_id.isNull() & df.category_id.isNull() \\\n",
    "##         & df.category_id.isNull() & df.input_timestamp.isNull()).show()\n",
    "\n",
    "## no null value "
   ]
  },
  {
   "cell_type": "code",
   "execution_count": 14,
   "id": "3735e4fe",
   "metadata": {
    "execution": {
     "iopub.execute_input": "2022-07-06T01:04:12.900160Z",
     "iopub.status.busy": "2022-07-06T01:04:12.899804Z",
     "iopub.status.idle": "2022-07-06T01:04:12.904019Z",
     "shell.execute_reply": "2022-07-06T01:04:12.903016Z"
    },
    "papermill": {
     "duration": 0.029051,
     "end_time": "2022-07-06T01:04:12.905861",
     "exception": false,
     "start_time": "2022-07-06T01:04:12.876810",
     "status": "completed"
    },
    "tags": []
   },
   "outputs": [],
   "source": [
    "\n",
    "## 1.4 repeated value \n",
    "\n",
    "## df.dropDuplicates()\n",
    "\n",
    "## df.groupBy(\"user_id\", \"item_id\", \"category_id\", \"behavior_type\", \"input_timestamp\").count()\n",
    "\n",
    "## %time : long running time \n",
    "## explaintion: repeated with multiple devices\n"
   ]
  },
  {
   "cell_type": "code",
   "execution_count": 15,
   "id": "9605ba8b",
   "metadata": {
    "execution": {
     "iopub.execute_input": "2022-07-06T01:04:12.951461Z",
     "iopub.status.busy": "2022-07-06T01:04:12.950992Z",
     "iopub.status.idle": "2022-07-06T01:04:12.954415Z",
     "shell.execute_reply": "2022-07-06T01:04:12.953651Z"
    },
    "papermill": {
     "duration": 0.028727,
     "end_time": "2022-07-06T01:04:12.956615",
     "exception": false,
     "start_time": "2022-07-06T01:04:12.927888",
     "status": "completed"
    },
    "tags": []
   },
   "outputs": [],
   "source": [
    "## df.count()\n",
    "## 100150807"
   ]
  },
  {
   "cell_type": "code",
   "execution_count": 16,
   "id": "5d5abd97",
   "metadata": {
    "execution": {
     "iopub.execute_input": "2022-07-06T01:04:13.035198Z",
     "iopub.status.busy": "2022-07-06T01:04:13.033997Z",
     "iopub.status.idle": "2022-07-06T01:04:13.038873Z",
     "shell.execute_reply": "2022-07-06T01:04:13.038085Z"
    },
    "papermill": {
     "duration": 0.045392,
     "end_time": "2022-07-06T01:04:13.040956",
     "exception": false,
     "start_time": "2022-07-06T01:04:12.995564",
     "status": "completed"
    },
    "tags": []
   },
   "outputs": [],
   "source": [
    "## 1.5 anomaly \n",
    "\n",
    "## df_anomaly_lower = df.filter(df.d < '2017-11-25')\n",
    "## df_anomaly_higher = df.filter(df.d > '2017-12-03')\n",
    "\n",
    "## df_anomaly_higher.count()\n",
    "## 2428\n",
    "## df_anomaly_lower.count()\n",
    "## 53148"
   ]
  },
  {
   "cell_type": "code",
   "execution_count": 17,
   "id": "90c52ee4",
   "metadata": {
    "execution": {
     "iopub.execute_input": "2022-07-06T01:04:13.117390Z",
     "iopub.status.busy": "2022-07-06T01:04:13.117044Z",
     "iopub.status.idle": "2022-07-06T01:04:13.120649Z",
     "shell.execute_reply": "2022-07-06T01:04:13.119874Z"
    },
    "papermill": {
     "duration": 0.044804,
     "end_time": "2022-07-06T01:04:13.123117",
     "exception": false,
     "start_time": "2022-07-06T01:04:13.078313",
     "status": "completed"
    },
    "tags": []
   },
   "outputs": [],
   "source": [
    "## higher_sample = df_anomaly_higher.sample(False, 0.1, seed=0)\n",
    "## higher_sample\n",
    "## lower_sample = df_anomaly_lower.sample(False, 0.1, seed=0)\n",
    "## lower_sample\n",
    "\n",
    "## sample with replacement (default False)."
   ]
  },
  {
   "cell_type": "code",
   "execution_count": 18,
   "id": "3155614b",
   "metadata": {
    "execution": {
     "iopub.execute_input": "2022-07-06T01:04:13.199691Z",
     "iopub.status.busy": "2022-07-06T01:04:13.198976Z",
     "iopub.status.idle": "2022-07-06T01:04:13.221745Z",
     "shell.execute_reply": "2022-07-06T01:04:13.221115Z"
    },
    "papermill": {
     "duration": 0.063841,
     "end_time": "2022-07-06T01:04:13.224835",
     "exception": false,
     "start_time": "2022-07-06T01:04:13.160994",
     "status": "completed"
    },
    "tags": []
   },
   "outputs": [],
   "source": [
    "df = df.filter((df.d > '2017-11-24') & (df.d < '2017-12-04') )\n",
    "\n",
    "## df.count()\n",
    "## 100095231"
   ]
  },
  {
   "cell_type": "code",
   "execution_count": 19,
   "id": "1675ecd8",
   "metadata": {
    "execution": {
     "iopub.execute_input": "2022-07-06T01:04:13.302910Z",
     "iopub.status.busy": "2022-07-06T01:04:13.302334Z",
     "iopub.status.idle": "2022-07-06T01:04:13.306472Z",
     "shell.execute_reply": "2022-07-06T01:04:13.305146Z"
    },
    "papermill": {
     "duration": 0.046988,
     "end_time": "2022-07-06T01:04:13.310644",
     "exception": false,
     "start_time": "2022-07-06T01:04:13.263656",
     "status": "completed"
    },
    "tags": []
   },
   "outputs": [],
   "source": [
    "## df.withColumn(\"row_num\", row_number().over(Window.partitionBy(\"Group\") \n",
    "## row_number(): only used on partitionBy\n",
    "## groupBy vs partitionBy\n",
    "\n",
    "## df.count()\n",
    "## df.distinct().count()\n",
    "## output00 = df.select(countDistinct(\"user_id\", \"item_id\", \"category_id\", \"behavior_type\", \"input_timestamp\"))\n",
    "\n",
    "## BIG DATA\n",
    "## https://www.mikulskibartosz.name/how-to-speed-up-pyspark/\n",
    "## spark.default.parallelism "
   ]
  },
  {
   "cell_type": "markdown",
   "id": "3c385b9a",
   "metadata": {
    "papermill": {
     "duration": 0.034141,
     "end_time": "2022-07-06T01:04:13.367685",
     "exception": false,
     "start_time": "2022-07-06T01:04:13.333544",
     "status": "completed"
    },
    "tags": []
   },
   "source": [
    "## 2. Data Analysis"
   ]
  },
  {
   "cell_type": "code",
   "execution_count": 20,
   "id": "503109fc",
   "metadata": {
    "execution": {
     "iopub.execute_input": "2022-07-06T01:04:13.445461Z",
     "iopub.status.busy": "2022-07-06T01:04:13.444528Z",
     "iopub.status.idle": "2022-07-06T01:04:13.492151Z",
     "shell.execute_reply": "2022-07-06T01:04:13.491362Z"
    },
    "papermill": {
     "duration": 0.090511,
     "end_time": "2022-07-06T01:04:13.496541",
     "exception": false,
     "start_time": "2022-07-06T01:04:13.406030",
     "status": "completed"
    },
    "tags": []
   },
   "outputs": [
    {
     "name": "stderr",
     "output_type": "stream",
     "text": [
      "/opt/conda/lib/python3.7/site-packages/pyspark/sql/dataframe.py:229: FutureWarning: Deprecated in 2.0, use createOrReplaceTempView instead.\n",
      "  warnings.warn(\"Deprecated in 2.0, use createOrReplaceTempView instead.\", FutureWarning)\n"
     ]
    }
   ],
   "source": [
    "df.registerTempTable(\"user_behavior\")\n",
    "## df.createOrReplaceTempView(\"user_behavior\")"
   ]
  },
  {
   "cell_type": "code",
   "execution_count": 21,
   "id": "cc1e17d3",
   "metadata": {
    "execution": {
     "iopub.execute_input": "2022-07-06T01:04:13.573460Z",
     "iopub.status.busy": "2022-07-06T01:04:13.573022Z",
     "iopub.status.idle": "2022-07-06T01:04:13.578978Z",
     "shell.execute_reply": "2022-07-06T01:04:13.577972Z"
    },
    "papermill": {
     "duration": 0.046474,
     "end_time": "2022-07-06T01:04:13.580945",
     "exception": false,
     "start_time": "2022-07-06T01:04:13.534471",
     "status": "completed"
    },
    "tags": []
   },
   "outputs": [
    {
     "name": "stdout",
     "output_type": "stream",
     "text": [
      "root\n",
      " |-- user_id: integer (nullable = true)\n",
      " |-- item_id: integer (nullable = true)\n",
      " |-- category_id: integer (nullable = true)\n",
      " |-- behavior_type: string (nullable = true)\n",
      " |-- d: date (nullable = true)\n",
      " |-- h: integer (nullable = true)\n",
      "\n"
     ]
    }
   ],
   "source": [
    "df.printSchema()"
   ]
  },
  {
   "cell_type": "code",
   "execution_count": 22,
   "id": "5053e873",
   "metadata": {
    "execution": {
     "iopub.execute_input": "2022-07-06T01:04:13.659785Z",
     "iopub.status.busy": "2022-07-06T01:04:13.658725Z",
     "iopub.status.idle": "2022-07-06T01:04:22.750359Z",
     "shell.execute_reply": "2022-07-06T01:04:22.748674Z"
    },
    "papermill": {
     "duration": 9.134623,
     "end_time": "2022-07-06T01:04:22.754126",
     "exception": false,
     "start_time": "2022-07-06T01:04:13.619503",
     "status": "completed"
    },
    "tags": []
   },
   "outputs": [
    {
     "name": "stdout",
     "output_type": "stream",
     "text": [
      "22/07/06 01:04:14 WARN HiveConf: HiveConf of name hive.stats.jdbc.timeout does not exist\n",
      "22/07/06 01:04:14 WARN HiveConf: HiveConf of name hive.stats.retries.wait does not exist\n",
      "22/07/06 01:04:19 WARN ObjectStore: Version information not found in metastore. hive.metastore.schema.verification is not enabled so recording the schema version 2.3.0\n",
      "22/07/06 01:04:19 WARN ObjectStore: setMetaStoreSchemaVersion called but recording version is disabled: version = 2.3.0, comment = Set by MetaStore UNKNOWN@172.19.2.2\n",
      "22/07/06 01:04:19 WARN ObjectStore: Failed to get database default, returning NoSuchObjectException\n"
     ]
    },
    {
     "name": "stderr",
     "output_type": "stream",
     "text": [
      "                                                                                \r"
     ]
    },
    {
     "name": "stdout",
     "output_type": "stream",
     "text": [
      "22/07/06 01:04:22 WARN SessionState: METASTORE_FILTER_HOOK will be ignored, since hive.security.authorization.manager is set to instance of HiveAuthorizerFactory.\n",
      "22/07/06 01:04:22 WARN HiveConf: HiveConf of name hive.internal.ss.authz.settings.applied.marker does not exist\n",
      "22/07/06 01:04:22 WARN HiveConf: HiveConf of name hive.stats.jdbc.timeout does not exist\n",
      "22/07/06 01:04:22 WARN HiveConf: HiveConf of name hive.stats.retries.wait does not exist\n",
      "22/07/06 01:04:22 WARN ObjectStore: Failed to get database global_temp, returning NoSuchObjectException\n",
      "root\n",
      " |-- user_id: integer (nullable = true)\n",
      " |-- item_id: integer (nullable = true)\n",
      " |-- category_id: integer (nullable = true)\n",
      " |-- behavior_type: string (nullable = true)\n",
      " |-- d: date (nullable = true)\n",
      " |-- h: integer (nullable = true)\n",
      "\n"
     ]
    }
   ],
   "source": [
    "spark.sql(\" CREATE TABLE temp_behavior (SELECT * FROM user_behavior LIMIT 5) \")\n",
    "df_temp = spark.table(\"temp_behavior\")\n",
    "df_temp.printSchema()"
   ]
  },
  {
   "cell_type": "code",
   "execution_count": 23,
   "id": "4660e756",
   "metadata": {
    "execution": {
     "iopub.execute_input": "2022-07-06T01:04:22.843564Z",
     "iopub.status.busy": "2022-07-06T01:04:22.843197Z",
     "iopub.status.idle": "2022-07-06T01:04:23.019387Z",
     "shell.execute_reply": "2022-07-06T01:04:23.018413Z"
    },
    "papermill": {
     "duration": 0.218425,
     "end_time": "2022-07-06T01:04:23.022035",
     "exception": false,
     "start_time": "2022-07-06T01:04:22.803610",
     "status": "completed"
    },
    "tags": []
   },
   "outputs": [
    {
     "data": {
      "text/html": [
       "<table border='1'>\n",
       "<tr><th>col_name</th><th>data_type</th><th>comment</th></tr>\n",
       "<tr><td>user_id</td><td>int</td><td>null</td></tr>\n",
       "<tr><td>item_id</td><td>int</td><td>null</td></tr>\n",
       "<tr><td>category_id</td><td>int</td><td>null</td></tr>\n",
       "<tr><td>behavior_type</td><td>string</td><td>null</td></tr>\n",
       "<tr><td>d</td><td>date</td><td>null</td></tr>\n",
       "<tr><td>h</td><td>int</td><td>null</td></tr>\n",
       "</table>\n"
      ],
      "text/plain": [
       "+-------------+---------+-------+\n",
       "|     col_name|data_type|comment|\n",
       "+-------------+---------+-------+\n",
       "|      user_id|      int|   null|\n",
       "|      item_id|      int|   null|\n",
       "|  category_id|      int|   null|\n",
       "|behavior_type|   string|   null|\n",
       "|            d|     date|   null|\n",
       "|            h|      int|   null|\n",
       "+-------------+---------+-------+"
      ]
     },
     "execution_count": 23,
     "metadata": {},
     "output_type": "execute_result"
    }
   ],
   "source": [
    "spark.sql(\" DESCRIBE user_behavior \")"
   ]
  },
  {
   "cell_type": "markdown",
   "id": "f016bc74",
   "metadata": {
    "papermill": {
     "duration": 0.05208,
     "end_time": "2022-07-06T01:04:23.124924",
     "exception": false,
     "start_time": "2022-07-06T01:04:23.072844",
     "status": "completed"
    },
    "tags": []
   },
   "source": [
    "### 0.1    overview "
   ]
  },
  {
   "cell_type": "code",
   "execution_count": 24,
   "id": "24a3c033",
   "metadata": {
    "execution": {
     "iopub.execute_input": "2022-07-06T01:04:23.229080Z",
     "iopub.status.busy": "2022-07-06T01:04:23.228638Z",
     "iopub.status.idle": "2022-07-06T01:04:23.234418Z",
     "shell.execute_reply": "2022-07-06T01:04:23.233422Z"
    },
    "papermill": {
     "duration": 0.061838,
     "end_time": "2022-07-06T01:04:23.237097",
     "exception": false,
     "start_time": "2022-07-06T01:04:23.175259",
     "status": "completed"
    },
    "tags": []
   },
   "outputs": [],
   "source": [
    "## index = df.count()\n",
    "## df_out = df.select(countDistinct(\"user_id\")) 100095231\n",
    "## df_out = df.select(countDistinct(\"item_id\")) 4161138\n",
    "## df_out = df.select(countDistinct(\"category_id\")) 9437\n",
    "## df.select(approx_count_distinct(\"item_id\")).collect() 4117166\n",
    "## df.select(countDistinct(\"user_id\", \"item_id\", \"category_id\")) together "
   ]
  },
  {
   "cell_type": "code",
   "execution_count": 25,
   "id": "441276d0",
   "metadata": {
    "execution": {
     "iopub.execute_input": "2022-07-06T01:04:23.330644Z",
     "iopub.status.busy": "2022-07-06T01:04:23.329855Z",
     "iopub.status.idle": "2022-07-06T01:04:23.334637Z",
     "shell.execute_reply": "2022-07-06T01:04:23.333653Z"
    },
    "papermill": {
     "duration": 0.04931,
     "end_time": "2022-07-06T01:04:23.336847",
     "exception": false,
     "start_time": "2022-07-06T01:04:23.287537",
     "status": "completed"
    },
    "tags": []
   },
   "outputs": [],
   "source": [
    "## df_out"
   ]
  },
  {
   "cell_type": "code",
   "execution_count": 26,
   "id": "bcb6b457",
   "metadata": {
    "execution": {
     "iopub.execute_input": "2022-07-06T01:04:23.415743Z",
     "iopub.status.busy": "2022-07-06T01:04:23.415323Z",
     "iopub.status.idle": "2022-07-06T01:04:23.420000Z",
     "shell.execute_reply": "2022-07-06T01:04:23.419092Z"
    },
    "papermill": {
     "duration": 0.047606,
     "end_time": "2022-07-06T01:04:23.422273",
     "exception": false,
     "start_time": "2022-07-06T01:04:23.374667",
     "status": "completed"
    },
    "tags": []
   },
   "outputs": [],
   "source": [
    "index = 100095231\n",
    "user_count = 987991\n",
    "item_count = 4161138\n",
    "category_count = 9437"
   ]
  },
  {
   "cell_type": "code",
   "execution_count": 27,
   "id": "2b9df370",
   "metadata": {
    "execution": {
     "iopub.execute_input": "2022-07-06T01:04:23.500742Z",
     "iopub.status.busy": "2022-07-06T01:04:23.500113Z",
     "iopub.status.idle": "2022-07-06T01:04:23.504424Z",
     "shell.execute_reply": "2022-07-06T01:04:23.503321Z"
    },
    "papermill": {
     "duration": 0.046209,
     "end_time": "2022-07-06T01:04:23.506682",
     "exception": false,
     "start_time": "2022-07-06T01:04:23.460473",
     "status": "completed"
    },
    "tags": []
   },
   "outputs": [],
   "source": [
    "import pandas as pd \n",
    "import numpy as np"
   ]
  },
  {
   "cell_type": "code",
   "execution_count": 28,
   "id": "b6113697",
   "metadata": {
    "execution": {
     "iopub.execute_input": "2022-07-06T01:04:23.584947Z",
     "iopub.status.busy": "2022-07-06T01:04:23.584356Z",
     "iopub.status.idle": "2022-07-06T01:04:23.597020Z",
     "shell.execute_reply": "2022-07-06T01:04:23.596455Z"
    },
    "papermill": {
     "duration": 0.054529,
     "end_time": "2022-07-06T01:04:23.599426",
     "exception": false,
     "start_time": "2022-07-06T01:04:23.544897",
     "status": "completed"
    },
    "tags": []
   },
   "outputs": [],
   "source": [
    "columns = [\"index\",\"user_count\", \"user_count\", \"user_count\"]\n",
    "data =np.array((index, user_count, item_count, category_count)).reshape((1,4))\n",
    "df_output = pd.DataFrame(data, columns = columns)"
   ]
  },
  {
   "cell_type": "code",
   "execution_count": 29,
   "id": "a74aefc8",
   "metadata": {
    "execution": {
     "iopub.execute_input": "2022-07-06T01:04:23.678102Z",
     "iopub.status.busy": "2022-07-06T01:04:23.677523Z",
     "iopub.status.idle": "2022-07-06T01:04:23.689054Z",
     "shell.execute_reply": "2022-07-06T01:04:23.688325Z"
    },
    "papermill": {
     "duration": 0.053597,
     "end_time": "2022-07-06T01:04:23.691724",
     "exception": false,
     "start_time": "2022-07-06T01:04:23.638127",
     "status": "completed"
    },
    "tags": []
   },
   "outputs": [],
   "source": [
    "df_output.to_csv('./01_overview.csv')"
   ]
  },
  {
   "cell_type": "markdown",
   "id": "0390a4de",
   "metadata": {
    "papermill": {
     "duration": 0.037974,
     "end_time": "2022-07-06T01:04:23.768360",
     "exception": false,
     "start_time": "2022-07-06T01:04:23.730386",
     "status": "completed"
    },
    "tags": []
   },
   "source": [
    "### 1.1 traffic_conversion "
   ]
  },
  {
   "cell_type": "code",
   "execution_count": 30,
   "id": "2d848725",
   "metadata": {
    "execution": {
     "iopub.execute_input": "2022-07-06T01:04:23.845224Z",
     "iopub.status.busy": "2022-07-06T01:04:23.844899Z",
     "iopub.status.idle": "2022-07-06T01:06:11.786827Z",
     "shell.execute_reply": "2022-07-06T01:06:11.785978Z"
    },
    "papermill": {
     "duration": 107.983131,
     "end_time": "2022-07-06T01:06:11.789234",
     "exception": false,
     "start_time": "2022-07-06T01:04:23.806103",
     "status": "completed"
    },
    "tags": []
   },
   "outputs": [
    {
     "name": "stderr",
     "output_type": "stream",
     "text": [
      "                                                                                \r"
     ]
    },
    {
     "data": {
      "text/html": [
       "<table border='1'>\n",
       "<tr><th></th></tr>\n",
       "</table>\n"
      ],
      "text/plain": [
       "++\n",
       "||\n",
       "++\n",
       "++"
      ]
     },
     "execution_count": 30,
     "metadata": {},
     "output_type": "execute_result"
    }
   ],
   "source": [
    "spark.sql(\" CREATE TABLE 11_traffic_conversion ( SELECT SUM(CASE WHEN behavior_type ='pv' THEN 1 ELSE 0 END) AS pv_count, \\\n",
    "SUM(CASE WHEN behavior_type ='fav' THEN 1 ELSE 0 END) AS fav_count, \\\n",
    "SUM(CASE WHEN behavior_type ='cart' THEN 1 ELSE 0 END) AS cart_count, \\\n",
    "SUM(CASE WHEN behavior_type ='buy' THEN 1 ELSE 0 END) AS buy_count \\\n",
    "FROM user_behavior ) \")"
   ]
  },
  {
   "cell_type": "code",
   "execution_count": 31,
   "id": "1ec4e420",
   "metadata": {
    "execution": {
     "iopub.execute_input": "2022-07-06T01:06:11.892852Z",
     "iopub.status.busy": "2022-07-06T01:06:11.892542Z",
     "iopub.status.idle": "2022-07-06T01:06:12.293877Z",
     "shell.execute_reply": "2022-07-06T01:06:12.292967Z"
    },
    "papermill": {
     "duration": 0.454631,
     "end_time": "2022-07-06T01:06:12.296571",
     "exception": false,
     "start_time": "2022-07-06T01:06:11.841940",
     "status": "completed"
    },
    "tags": []
   },
   "outputs": [
    {
     "name": "stdout",
     "output_type": "stream",
     "text": [
      "CPU times: user 0 ns, sys: 974 µs, total: 974 µs\n",
      "Wall time: 49.2 ms\n"
     ]
    },
    {
     "data": {
      "text/html": [
       "<table border='1'>\n",
       "<tr><th>pv_count</th><th>fav_count</th><th>cart_count</th><th>buy_count</th></tr>\n",
       "<tr><td>89660688</td><td>2888258</td><td>5530446</td><td>2015839</td></tr>\n",
       "</table>\n"
      ],
      "text/plain": [
       "+--------+---------+----------+---------+\n",
       "|pv_count|fav_count|cart_count|buy_count|\n",
       "+--------+---------+----------+---------+\n",
       "|89660688|  2888258|   5530446|  2015839|\n",
       "+--------+---------+----------+---------+"
      ]
     },
     "execution_count": 31,
     "metadata": {},
     "output_type": "execute_result"
    }
   ],
   "source": [
    "%%time\n",
    "df_output = spark.table(\"11_traffic_conversion\")\n",
    "df_output"
   ]
  },
  {
   "cell_type": "code",
   "execution_count": 32,
   "id": "6f390c6f",
   "metadata": {
    "execution": {
     "iopub.execute_input": "2022-07-06T01:06:12.365301Z",
     "iopub.status.busy": "2022-07-06T01:06:12.364929Z",
     "iopub.status.idle": "2022-07-06T01:06:12.551827Z",
     "shell.execute_reply": "2022-07-06T01:06:12.550371Z"
    },
    "papermill": {
     "duration": 0.224242,
     "end_time": "2022-07-06T01:06:12.554804",
     "exception": false,
     "start_time": "2022-07-06T01:06:12.330562",
     "status": "completed"
    },
    "tags": []
   },
   "outputs": [
    {
     "name": "stdout",
     "output_type": "stream",
     "text": [
      "CPU times: user 16.8 ms, sys: 5.02 ms, total: 21.8 ms\n",
      "Wall time: 179 ms\n"
     ]
    }
   ],
   "source": [
    "%%time\n",
    "df_output.toPandas().to_csv('./11_traffic_conversion.csv')"
   ]
  },
  {
   "cell_type": "markdown",
   "id": "4da37b0e",
   "metadata": {
    "papermill": {
     "duration": 0.0301,
     "end_time": "2022-07-06T01:06:12.617332",
     "exception": false,
     "start_time": "2022-07-06T01:06:12.587232",
     "status": "completed"
    },
    "tags": []
   },
   "source": [
    "### 1.2 user_conversion "
   ]
  },
  {
   "cell_type": "code",
   "execution_count": 33,
   "id": "e2b9719c",
   "metadata": {
    "execution": {
     "iopub.execute_input": "2022-07-06T01:06:12.681377Z",
     "iopub.status.busy": "2022-07-06T01:06:12.680773Z",
     "iopub.status.idle": "2022-07-06T01:08:10.421624Z",
     "shell.execute_reply": "2022-07-06T01:08:10.420815Z"
    },
    "papermill": {
     "duration": 117.775615,
     "end_time": "2022-07-06T01:08:10.423826",
     "exception": false,
     "start_time": "2022-07-06T01:06:12.648211",
     "status": "completed"
    },
    "tags": []
   },
   "outputs": [
    {
     "name": "stderr",
     "output_type": "stream",
     "text": [
      "                                                                                \r"
     ]
    },
    {
     "data": {
      "text/html": [
       "<table border='1'>\n",
       "<tr><th></th></tr>\n",
       "</table>\n"
      ],
      "text/plain": [
       "++\n",
       "||\n",
       "++\n",
       "++"
      ]
     },
     "execution_count": 33,
     "metadata": {},
     "output_type": "execute_result"
    }
   ],
   "source": [
    "spark.sql(\" CREATE TABLE 12_user_behavior_count ( SELECT user_id, \\\n",
    "SUM(CASE WHEN behavior_type ='pv' THEN 1 ELSE 0 END) AS pv_count, \\\n",
    "SUM(CASE WHEN behavior_type ='fav' THEN 1 ELSE 0 END) AS fav_count, \\\n",
    "SUM(CASE WHEN behavior_type ='cart' THEN 1 ELSE 0 END) AS cart_count, \\\n",
    "SUM(CASE WHEN behavior_type ='buy' THEN 1 ELSE 0 END) AS buy_count \\\n",
    "FROM user_behavior \\\n",
    "GROUP BY user_id) \")\n"
   ]
  },
  {
   "cell_type": "code",
   "execution_count": 34,
   "id": "3b2a4b79",
   "metadata": {
    "execution": {
     "iopub.execute_input": "2022-07-06T01:08:10.490797Z",
     "iopub.status.busy": "2022-07-06T01:08:10.489789Z",
     "iopub.status.idle": "2022-07-06T01:08:10.640530Z",
     "shell.execute_reply": "2022-07-06T01:08:10.637715Z"
    },
    "papermill": {
     "duration": 0.189248,
     "end_time": "2022-07-06T01:08:10.642869",
     "exception": true,
     "start_time": "2022-07-06T01:08:10.453621",
     "status": "failed"
    },
    "tags": []
   },
   "outputs": [
    {
     "ename": "AnalysisException",
     "evalue": "Table or view not found: 12_user_behavior_type; line 1 pos 314;\n'CreateTable `default`.`12_user_conversion`, ErrorIfExists\n+- 'Project ['SUM(CASE WHEN ('pv_count > 0) THEN 1 ELSE 0 END) AS pv_user_count#282, 'SUM(CASE WHEN ('fav_count > 0) THEN 1 ELSE 0 END) AS fav_user_count#283, 'SUM(CASE WHEN ('cart_count > 0) THEN 1 ELSE 0 END) AS cart_user_count#284, 'SUM(CASE WHEN ('buy_count > 0) THEN 1 ELSE 0 END) AS buy_user_count#285]\n   +- 'UnresolvedRelation [12_user_behavior_type], [], false\n",
     "output_type": "error",
     "traceback": [
      "\u001b[0;31m---------------------------------------------------------------------------\u001b[0m",
      "\u001b[0;31mAnalysisException\u001b[0m                         Traceback (most recent call last)",
      "\u001b[0;32m/tmp/ipykernel_19/1331212736.py\u001b[0m in \u001b[0;36m<module>\u001b[0;34m\u001b[0m\n\u001b[1;32m      3\u001b[0m \u001b[0mSUM\u001b[0m\u001b[0;34m(\u001b[0m\u001b[0mCASE\u001b[0m \u001b[0mWHEN\u001b[0m  \u001b[0mcart_count\u001b[0m \u001b[0;34m>\u001b[0m \u001b[0;36m0\u001b[0m \u001b[0mTHEN\u001b[0m \u001b[0;36m1\u001b[0m \u001b[0mELSE\u001b[0m \u001b[0;36m0\u001b[0m \u001b[0mEND\u001b[0m\u001b[0;34m)\u001b[0m \u001b[0mAS\u001b[0m \u001b[0mcart_user_count\u001b[0m\u001b[0;34m,\u001b[0m\u001b[0;31m \u001b[0m\u001b[0;31m\\\u001b[0m\u001b[0;34m\u001b[0m\u001b[0;34m\u001b[0m\u001b[0m\n\u001b[1;32m      4\u001b[0m \u001b[0mSUM\u001b[0m\u001b[0;34m(\u001b[0m\u001b[0mCASE\u001b[0m \u001b[0mWHEN\u001b[0m  \u001b[0mbuy_count\u001b[0m \u001b[0;34m>\u001b[0m \u001b[0;36m0\u001b[0m \u001b[0mTHEN\u001b[0m \u001b[0;36m1\u001b[0m \u001b[0mELSE\u001b[0m \u001b[0;36m0\u001b[0m \u001b[0mEND\u001b[0m\u001b[0;34m)\u001b[0m \u001b[0mAS\u001b[0m \u001b[0mbuy_user_count\u001b[0m\u001b[0;31m \u001b[0m\u001b[0;31m\\\u001b[0m\u001b[0;34m\u001b[0m\u001b[0;34m\u001b[0m\u001b[0m\n\u001b[0;32m----> 5\u001b[0;31m from 12_user_behavior_type ) \")\n\u001b[0m",
      "\u001b[0;32m/opt/conda/lib/python3.7/site-packages/pyspark/sql/session.py\u001b[0m in \u001b[0;36msql\u001b[0;34m(self, sqlQuery, **kwargs)\u001b[0m\n\u001b[1;32m   1032\u001b[0m             \u001b[0msqlQuery\u001b[0m \u001b[0;34m=\u001b[0m \u001b[0mformatter\u001b[0m\u001b[0;34m.\u001b[0m\u001b[0mformat\u001b[0m\u001b[0;34m(\u001b[0m\u001b[0msqlQuery\u001b[0m\u001b[0;34m,\u001b[0m \u001b[0;34m**\u001b[0m\u001b[0mkwargs\u001b[0m\u001b[0;34m)\u001b[0m\u001b[0;34m\u001b[0m\u001b[0;34m\u001b[0m\u001b[0m\n\u001b[1;32m   1033\u001b[0m         \u001b[0;32mtry\u001b[0m\u001b[0;34m:\u001b[0m\u001b[0;34m\u001b[0m\u001b[0;34m\u001b[0m\u001b[0m\n\u001b[0;32m-> 1034\u001b[0;31m             \u001b[0;32mreturn\u001b[0m \u001b[0mDataFrame\u001b[0m\u001b[0;34m(\u001b[0m\u001b[0mself\u001b[0m\u001b[0;34m.\u001b[0m\u001b[0m_jsparkSession\u001b[0m\u001b[0;34m.\u001b[0m\u001b[0msql\u001b[0m\u001b[0;34m(\u001b[0m\u001b[0msqlQuery\u001b[0m\u001b[0;34m)\u001b[0m\u001b[0;34m,\u001b[0m \u001b[0mself\u001b[0m\u001b[0;34m)\u001b[0m\u001b[0;34m\u001b[0m\u001b[0;34m\u001b[0m\u001b[0m\n\u001b[0m\u001b[1;32m   1035\u001b[0m         \u001b[0;32mfinally\u001b[0m\u001b[0;34m:\u001b[0m\u001b[0;34m\u001b[0m\u001b[0;34m\u001b[0m\u001b[0m\n\u001b[1;32m   1036\u001b[0m             \u001b[0;32mif\u001b[0m \u001b[0mlen\u001b[0m\u001b[0;34m(\u001b[0m\u001b[0mkwargs\u001b[0m\u001b[0;34m)\u001b[0m \u001b[0;34m>\u001b[0m \u001b[0;36m0\u001b[0m\u001b[0;34m:\u001b[0m\u001b[0;34m\u001b[0m\u001b[0;34m\u001b[0m\u001b[0m\n",
      "\u001b[0;32m/opt/conda/lib/python3.7/site-packages/py4j/java_gateway.py\u001b[0m in \u001b[0;36m__call__\u001b[0;34m(self, *args)\u001b[0m\n\u001b[1;32m   1320\u001b[0m         \u001b[0manswer\u001b[0m \u001b[0;34m=\u001b[0m \u001b[0mself\u001b[0m\u001b[0;34m.\u001b[0m\u001b[0mgateway_client\u001b[0m\u001b[0;34m.\u001b[0m\u001b[0msend_command\u001b[0m\u001b[0;34m(\u001b[0m\u001b[0mcommand\u001b[0m\u001b[0;34m)\u001b[0m\u001b[0;34m\u001b[0m\u001b[0;34m\u001b[0m\u001b[0m\n\u001b[1;32m   1321\u001b[0m         return_value = get_return_value(\n\u001b[0;32m-> 1322\u001b[0;31m             answer, self.gateway_client, self.target_id, self.name)\n\u001b[0m\u001b[1;32m   1323\u001b[0m \u001b[0;34m\u001b[0m\u001b[0m\n\u001b[1;32m   1324\u001b[0m         \u001b[0;32mfor\u001b[0m \u001b[0mtemp_arg\u001b[0m \u001b[0;32min\u001b[0m \u001b[0mtemp_args\u001b[0m\u001b[0;34m:\u001b[0m\u001b[0;34m\u001b[0m\u001b[0;34m\u001b[0m\u001b[0m\n",
      "\u001b[0;32m/opt/conda/lib/python3.7/site-packages/pyspark/sql/utils.py\u001b[0m in \u001b[0;36mdeco\u001b[0;34m(*a, **kw)\u001b[0m\n\u001b[1;32m    194\u001b[0m                 \u001b[0;31m# Hide where the exception came from that shows a non-Pythonic\u001b[0m\u001b[0;34m\u001b[0m\u001b[0;34m\u001b[0m\u001b[0;34m\u001b[0m\u001b[0m\n\u001b[1;32m    195\u001b[0m                 \u001b[0;31m# JVM exception message.\u001b[0m\u001b[0;34m\u001b[0m\u001b[0;34m\u001b[0m\u001b[0;34m\u001b[0m\u001b[0m\n\u001b[0;32m--> 196\u001b[0;31m                 \u001b[0;32mraise\u001b[0m \u001b[0mconverted\u001b[0m \u001b[0;32mfrom\u001b[0m \u001b[0;32mNone\u001b[0m\u001b[0;34m\u001b[0m\u001b[0;34m\u001b[0m\u001b[0m\n\u001b[0m\u001b[1;32m    197\u001b[0m             \u001b[0;32melse\u001b[0m\u001b[0;34m:\u001b[0m\u001b[0;34m\u001b[0m\u001b[0;34m\u001b[0m\u001b[0m\n\u001b[1;32m    198\u001b[0m                 \u001b[0;32mraise\u001b[0m\u001b[0;34m\u001b[0m\u001b[0;34m\u001b[0m\u001b[0m\n",
      "\u001b[0;31mAnalysisException\u001b[0m: Table or view not found: 12_user_behavior_type; line 1 pos 314;\n'CreateTable `default`.`12_user_conversion`, ErrorIfExists\n+- 'Project ['SUM(CASE WHEN ('pv_count > 0) THEN 1 ELSE 0 END) AS pv_user_count#282, 'SUM(CASE WHEN ('fav_count > 0) THEN 1 ELSE 0 END) AS fav_user_count#283, 'SUM(CASE WHEN ('cart_count > 0) THEN 1 ELSE 0 END) AS cart_user_count#284, 'SUM(CASE WHEN ('buy_count > 0) THEN 1 ELSE 0 END) AS buy_user_count#285]\n   +- 'UnresolvedRelation [12_user_behavior_type], [], false\n"
     ]
    }
   ],
   "source": [
    "spark.sql(\" CREATE TABLE 12_user_conversion ( select SUM(CASE WHEN  pv_count > 0 THEN 1 ELSE 0 END) AS pv_user_count, \\\n",
    "SUM(CASE WHEN  fav_count > 0 THEN 1 ELSE 0 END) AS fav_user_count, \\\n",
    "SUM(CASE WHEN  cart_count > 0 THEN 1 ELSE 0 END) AS cart_user_count, \\\n",
    "SUM(CASE WHEN  buy_count > 0 THEN 1 ELSE 0 END) AS buy_user_count \\\n",
    "from 12_user_behavior_type ) \")"
   ]
  },
  {
   "cell_type": "code",
   "execution_count": null,
   "id": "843adcf4",
   "metadata": {
    "execution": {
     "iopub.execute_input": "2022-07-06T00:01:55.828670Z",
     "iopub.status.busy": "2022-07-06T00:01:55.828174Z",
     "iopub.status.idle": "2022-07-06T00:01:56.030716Z",
     "shell.execute_reply": "2022-07-06T00:01:56.029648Z",
     "shell.execute_reply.started": "2022-07-06T00:01:55.828633Z"
    },
    "papermill": {
     "duration": null,
     "end_time": null,
     "exception": null,
     "start_time": null,
     "status": "pending"
    },
    "tags": []
   },
   "outputs": [],
   "source": [
    "df_output = spark.table(\"12_user_conversion\")\n",
    "df_output"
   ]
  },
  {
   "cell_type": "code",
   "execution_count": null,
   "id": "ada8c81d",
   "metadata": {
    "execution": {
     "iopub.execute_input": "2022-07-06T00:07:52.075293Z",
     "iopub.status.busy": "2022-07-06T00:07:52.074479Z",
     "iopub.status.idle": "2022-07-06T00:07:52.130072Z",
     "shell.execute_reply": "2022-07-06T00:07:52.129079Z",
     "shell.execute_reply.started": "2022-07-06T00:07:52.075250Z"
    },
    "papermill": {
     "duration": null,
     "end_time": null,
     "exception": null,
     "start_time": null,
     "status": "pending"
    },
    "tags": []
   },
   "outputs": [],
   "source": [
    "df_output.toPandas().to_csv('./12_user_conversion.csv')"
   ]
  },
  {
   "cell_type": "markdown",
   "id": "9197ec6f",
   "metadata": {
    "papermill": {
     "duration": null,
     "end_time": null,
     "exception": null,
     "start_time": null,
     "status": "pending"
    },
    "tags": []
   },
   "source": [
    "### 2.1 user_in_days "
   ]
  },
  {
   "cell_type": "code",
   "execution_count": null,
   "id": "26106671",
   "metadata": {
    "execution": {
     "iopub.execute_input": "2022-07-06T00:11:51.192904Z",
     "iopub.status.busy": "2022-07-06T00:11:51.192402Z",
     "iopub.status.idle": "2022-07-06T00:16:33.667919Z",
     "shell.execute_reply": "2022-07-06T00:16:33.666653Z",
     "shell.execute_reply.started": "2022-07-06T00:11:51.192866Z"
    },
    "papermill": {
     "duration": null,
     "end_time": null,
     "exception": null,
     "start_time": null,
     "status": "pending"
    },
    "tags": []
   },
   "outputs": [],
   "source": [
    "spark.sql(\" CREATE TABLE 21_user_in_days (SELECT d, \\\n",
    "COUNT(DISTINCT (user_id)) AS user_count, \\\n",
    "SUM(CASE WHEN behavior_type ='pv' THEN 1 ELSE 0 END) AS pv_count, \\\n",
    "SUM(CASE WHEN behavior_type ='fav' THEN 1 ELSE 0 END) AS fav_count, \\\n",
    "SUM(CASE WHEN behavior_type ='cart' THEN 1 ELSE 0 END) AS cart_count, \\\n",
    "SUM(CASE WHEN behavior_type ='buy' THEN 1 ELSE 0 END) AS buy_count \\\n",
    "FROM user_behavior \\\n",
    "GROUP BY d \\\n",
    "ORDER BY d )\")"
   ]
  },
  {
   "cell_type": "code",
   "execution_count": null,
   "id": "744d8b1e",
   "metadata": {
    "execution": {
     "iopub.execute_input": "2022-07-06T00:17:02.018540Z",
     "iopub.status.busy": "2022-07-06T00:17:02.017854Z",
     "iopub.status.idle": "2022-07-06T00:17:02.400266Z",
     "shell.execute_reply": "2022-07-06T00:17:02.398768Z",
     "shell.execute_reply.started": "2022-07-06T00:17:02.018503Z"
    },
    "papermill": {
     "duration": null,
     "end_time": null,
     "exception": null,
     "start_time": null,
     "status": "pending"
    },
    "tags": []
   },
   "outputs": [],
   "source": [
    "df_output = spark.table(\"21_user_in_days\")\n",
    "df_output"
   ]
  },
  {
   "cell_type": "code",
   "execution_count": null,
   "id": "dc761903",
   "metadata": {
    "execution": {
     "iopub.execute_input": "2022-07-06T00:17:10.654064Z",
     "iopub.status.busy": "2022-07-06T00:17:10.653687Z",
     "iopub.status.idle": "2022-07-06T00:17:10.784224Z",
     "shell.execute_reply": "2022-07-06T00:17:10.782929Z",
     "shell.execute_reply.started": "2022-07-06T00:17:10.654032Z"
    },
    "papermill": {
     "duration": null,
     "end_time": null,
     "exception": null,
     "start_time": null,
     "status": "pending"
    },
    "tags": []
   },
   "outputs": [],
   "source": [
    "df_output.toPandas().to_csv('./21_user_in_days.csv')"
   ]
  },
  {
   "cell_type": "markdown",
   "id": "58ed71a4",
   "metadata": {
    "papermill": {
     "duration": null,
     "end_time": null,
     "exception": null,
     "start_time": null,
     "status": "pending"
    },
    "tags": []
   },
   "source": [
    "### 2.2 user_in_hours "
   ]
  },
  {
   "cell_type": "code",
   "execution_count": null,
   "id": "97f5e4c1",
   "metadata": {
    "execution": {
     "iopub.execute_input": "2022-07-06T00:18:15.290290Z",
     "iopub.status.busy": "2022-07-06T00:18:15.289810Z",
     "iopub.status.idle": "2022-07-06T00:22:56.146100Z",
     "shell.execute_reply": "2022-07-06T00:22:56.144647Z",
     "shell.execute_reply.started": "2022-07-06T00:18:15.290251Z"
    },
    "papermill": {
     "duration": null,
     "end_time": null,
     "exception": null,
     "start_time": null,
     "status": "pending"
    },
    "tags": []
   },
   "outputs": [],
   "source": [
    "spark.sql(\" CREATE TABLE 22_user_in_hours  (SELECT h, \\\n",
    "COUNT(DISTINCT (user_id)) AS user_count, \\\n",
    "SUM(CASE WHEN behavior_type ='pv' THEN 1 ELSE 0 END) AS pv_count, \\\n",
    "SUM(CASE WHEN behavior_type ='fav' THEN 1 ELSE 0 END) AS fav_count, \\\n",
    "SUM(CASE WHEN behavior_type ='cart' THEN 1 ELSE 0 END) AS cart_count, \\\n",
    "SUM(CASE WHEN behavior_type ='buy' THEN 1 ELSE 0 END) AS buy_count \\\n",
    "FROM user_behavior \\\n",
    "GROUP BY h \\\n",
    "ORDER BY h )\")"
   ]
  },
  {
   "cell_type": "code",
   "execution_count": null,
   "id": "c0240469",
   "metadata": {
    "execution": {
     "iopub.execute_input": "2022-07-06T00:22:56.150760Z",
     "iopub.status.busy": "2022-07-06T00:22:56.149864Z",
     "iopub.status.idle": "2022-07-06T00:22:56.439811Z",
     "shell.execute_reply": "2022-07-06T00:22:56.438499Z",
     "shell.execute_reply.started": "2022-07-06T00:22:56.150714Z"
    },
    "papermill": {
     "duration": null,
     "end_time": null,
     "exception": null,
     "start_time": null,
     "status": "pending"
    },
    "tags": []
   },
   "outputs": [],
   "source": [
    "df_output = spark.table(\"22_user_in_hours\")\n",
    "df_output"
   ]
  },
  {
   "cell_type": "code",
   "execution_count": null,
   "id": "064bc3f8",
   "metadata": {
    "execution": {
     "iopub.execute_input": "2022-07-06T00:24:10.557912Z",
     "iopub.status.busy": "2022-07-06T00:24:10.557453Z",
     "iopub.status.idle": "2022-07-06T00:24:10.640936Z",
     "shell.execute_reply": "2022-07-06T00:24:10.640018Z",
     "shell.execute_reply.started": "2022-07-06T00:24:10.557878Z"
    },
    "papermill": {
     "duration": null,
     "end_time": null,
     "exception": null,
     "start_time": null,
     "status": "pending"
    },
    "tags": []
   },
   "outputs": [],
   "source": [
    "df_output.toPandas().to_csv('./22_user_in_hours.csv')"
   ]
  },
  {
   "cell_type": "markdown",
   "id": "c8794f55",
   "metadata": {
    "papermill": {
     "duration": null,
     "end_time": null,
     "exception": null,
     "start_time": null,
     "status": "pending"
    },
    "tags": []
   },
   "source": [
    "### 3.1 RFM Model"
   ]
  },
  {
   "cell_type": "code",
   "execution_count": null,
   "id": "25665af7",
   "metadata": {
    "execution": {
     "iopub.execute_input": "2022-07-06T00:27:37.373167Z",
     "iopub.status.busy": "2022-07-06T00:27:37.372795Z",
     "iopub.status.idle": "2022-07-06T00:28:51.290526Z",
     "shell.execute_reply": "2022-07-06T00:28:51.289509Z",
     "shell.execute_reply.started": "2022-07-06T00:27:37.373136Z"
    },
    "papermill": {
     "duration": null,
     "end_time": null,
     "exception": null,
     "start_time": null,
     "status": "pending"
    },
    "tags": []
   },
   "outputs": [],
   "source": [
    "spark.sql(\" CREATE TABLE 31_RF (SELECT user_id, \\\n",
    "DATEDIFF('2017-12-03', max(d)) AS recency, \\\n",
    "COUNT(user_id) AS frequency \\\n",
    "FROM user_behavior \\\n",
    "WHERE behavior_type='buy' \\\n",
    "GROUP BY user_id \\\n",
    "ORDER BY recency) \")"
   ]
  },
  {
   "cell_type": "code",
   "execution_count": null,
   "id": "1e5ad897",
   "metadata": {
    "execution": {
     "iopub.execute_input": "2022-07-06T00:32:40.492829Z",
     "iopub.status.busy": "2022-07-06T00:32:40.492333Z",
     "iopub.status.idle": "2022-07-06T00:32:42.176634Z",
     "shell.execute_reply": "2022-07-06T00:32:42.175442Z",
     "shell.execute_reply.started": "2022-07-06T00:32:40.492794Z"
    },
    "papermill": {
     "duration": null,
     "end_time": null,
     "exception": null,
     "start_time": null,
     "status": "pending"
    },
    "tags": []
   },
   "outputs": [],
   "source": [
    "spark.sql(\" CREATE TABLE 31_RF_rating (SELECT user_id, \\\n",
    "(CASE WHEN recency > 3 THEN 1 \\\n",
    "WHEN recency BETWEEN 2 and 3 THEN 2 \\\n",
    "WHEN recency BETWEEN 0 and 1 THEN 3 ELSE 0 END) AS R_rating, \\\n",
    "(CASE WHEN frequency BETWEEN 0 and 1 THEN 1 \\\n",
    "WHEN frequency BETWEEN 2 and 3 THEN 2 \\\n",
    "WHEN frequency >3 THEN 3 ELSE 0 END ) AS F_rating \\\n",
    "FROM 31_RF \\\n",
    "ORDER BY R_rating, F_rating) \")"
   ]
  },
  {
   "cell_type": "code",
   "execution_count": null,
   "id": "5ffb4808",
   "metadata": {
    "execution": {
     "iopub.execute_input": "2022-07-06T00:35:17.472002Z",
     "iopub.status.busy": "2022-07-06T00:35:17.471478Z",
     "iopub.status.idle": "2022-07-06T00:35:17.549232Z",
     "shell.execute_reply": "2022-07-06T00:35:17.548019Z",
     "shell.execute_reply.started": "2022-07-06T00:35:17.471958Z"
    },
    "papermill": {
     "duration": null,
     "end_time": null,
     "exception": null,
     "start_time": null,
     "status": "pending"
    },
    "tags": []
   },
   "outputs": [],
   "source": [
    "## df_test_RF = spark.sql(\" select * from 31_RF limit 20 \")\n",
    "## df_test_RF_rating = spark.sql(\" select * from 31_RF_rating limit 20 \")\n",
    "## df_test_RF\n",
    "## df_test_RF_rating"
   ]
  },
  {
   "cell_type": "code",
   "execution_count": null,
   "id": "336dce60",
   "metadata": {
    "execution": {
     "iopub.execute_input": "2022-07-06T00:41:25.227221Z",
     "iopub.status.busy": "2022-07-06T00:41:25.226833Z",
     "iopub.status.idle": "2022-07-06T00:41:25.918884Z",
     "shell.execute_reply": "2022-07-06T00:41:25.917533Z",
     "shell.execute_reply.started": "2022-07-06T00:41:25.227184Z"
    },
    "papermill": {
     "duration": null,
     "end_time": null,
     "exception": null,
     "start_time": null,
     "status": "pending"
    },
    "tags": []
   },
   "outputs": [],
   "source": [
    "spark.sql(\" CREATE TABLE 31_RF_caculation (SELECT R_rating, \\\n",
    "F_rating, \\\n",
    "COUNT(*) AS RF_count \\\n",
    "FROM 31_RF_rating \\\n",
    "GROUP BY R_rating, F_rating \\\n",
    "ORDER BY R_rating, F_rating ) \")"
   ]
  },
  {
   "cell_type": "code",
   "execution_count": null,
   "id": "a26e2f90",
   "metadata": {
    "execution": {
     "iopub.execute_input": "2022-07-06T00:41:41.915641Z",
     "iopub.status.busy": "2022-07-06T00:41:41.915162Z",
     "iopub.status.idle": "2022-07-06T00:41:42.111576Z",
     "shell.execute_reply": "2022-07-06T00:41:42.110415Z",
     "shell.execute_reply.started": "2022-07-06T00:41:41.915607Z"
    },
    "papermill": {
     "duration": null,
     "end_time": null,
     "exception": null,
     "start_time": null,
     "status": "pending"
    },
    "tags": []
   },
   "outputs": [],
   "source": [
    "df_output = spark.table(\"31_RF_caculation\")\n",
    "df_output"
   ]
  },
  {
   "cell_type": "code",
   "execution_count": null,
   "id": "c01693a6",
   "metadata": {
    "execution": {
     "iopub.execute_input": "2022-07-06T00:42:14.746524Z",
     "iopub.status.busy": "2022-07-06T00:42:14.741719Z",
     "iopub.status.idle": "2022-07-06T00:42:15.223741Z",
     "shell.execute_reply": "2022-07-06T00:42:15.222638Z",
     "shell.execute_reply.started": "2022-07-06T00:42:14.746390Z"
    },
    "papermill": {
     "duration": null,
     "end_time": null,
     "exception": null,
     "start_time": null,
     "status": "pending"
    },
    "tags": []
   },
   "outputs": [],
   "source": [
    "df_output.toPandas().to_csv('./31_RF_caculation.csv')"
   ]
  },
  {
   "cell_type": "code",
   "execution_count": null,
   "id": "346a0c48",
   "metadata": {
    "execution": {
     "iopub.execute_input": "2022-07-06T00:45:19.738613Z",
     "iopub.status.busy": "2022-07-06T00:45:19.738233Z",
     "iopub.status.idle": "2022-07-06T00:45:20.597346Z",
     "shell.execute_reply": "2022-07-06T00:45:20.596544Z",
     "shell.execute_reply.started": "2022-07-06T00:45:19.738582Z"
    },
    "papermill": {
     "duration": null,
     "end_time": null,
     "exception": null,
     "start_time": null,
     "status": "pending"
    },
    "tags": []
   },
   "outputs": [],
   "source": [
    "spark.sql(\" CREATE TABLE 32_F_distribution (SELECT frequency, \\\n",
    "COUNT(frequency) AS user_count \\\n",
    "FROM 31_RF \\\n",
    "GROUP by frequency \\\n",
    "ORDER by frequency) \")"
   ]
  },
  {
   "cell_type": "code",
   "execution_count": null,
   "id": "89ff3400",
   "metadata": {
    "execution": {
     "iopub.execute_input": "2022-07-06T00:45:34.719255Z",
     "iopub.status.busy": "2022-07-06T00:45:34.718804Z",
     "iopub.status.idle": "2022-07-06T00:45:34.940768Z",
     "shell.execute_reply": "2022-07-06T00:45:34.939654Z",
     "shell.execute_reply.started": "2022-07-06T00:45:34.719207Z"
    },
    "papermill": {
     "duration": null,
     "end_time": null,
     "exception": null,
     "start_time": null,
     "status": "pending"
    },
    "tags": []
   },
   "outputs": [],
   "source": [
    "df_output = spark.table(\"32_F_distribution\")\n",
    "df_output"
   ]
  },
  {
   "cell_type": "code",
   "execution_count": null,
   "id": "92b84c5f",
   "metadata": {
    "execution": {
     "iopub.execute_input": "2022-07-06T00:46:19.681350Z",
     "iopub.status.busy": "2022-07-06T00:46:19.680930Z",
     "iopub.status.idle": "2022-07-06T00:46:19.790998Z",
     "shell.execute_reply": "2022-07-06T00:46:19.789635Z",
     "shell.execute_reply.started": "2022-07-06T00:46:19.681316Z"
    },
    "papermill": {
     "duration": null,
     "end_time": null,
     "exception": null,
     "start_time": null,
     "status": "pending"
    },
    "tags": []
   },
   "outputs": [],
   "source": [
    "df_output.toPandas().to_csv('./32_F_distribution.csv')"
   ]
  },
  {
   "cell_type": "code",
   "execution_count": null,
   "id": "4b20ca06",
   "metadata": {
    "execution": {
     "iopub.execute_input": "2022-07-06T00:47:31.978336Z",
     "iopub.status.busy": "2022-07-06T00:47:31.977365Z",
     "iopub.status.idle": "2022-07-06T00:47:33.010009Z",
     "shell.execute_reply": "2022-07-06T00:47:33.008413Z",
     "shell.execute_reply.started": "2022-07-06T00:47:31.978291Z"
    },
    "papermill": {
     "duration": null,
     "end_time": null,
     "exception": null,
     "start_time": null,
     "status": "pending"
    },
    "tags": []
   },
   "outputs": [],
   "source": [
    "spark.sql(\" CREATE TABLE 32_R_distribution (SELECT recency, \\\n",
    "COUNT(recency) AS user_count \\\n",
    "FROM 31_RF \\\n",
    "GROUP by recency \\\n",
    "ORDER by recency) \")"
   ]
  },
  {
   "cell_type": "code",
   "execution_count": null,
   "id": "26df7788",
   "metadata": {
    "execution": {
     "iopub.execute_input": "2022-07-06T00:47:53.625880Z",
     "iopub.status.busy": "2022-07-06T00:47:53.625487Z",
     "iopub.status.idle": "2022-07-06T00:47:53.859815Z",
     "shell.execute_reply": "2022-07-06T00:47:53.858665Z",
     "shell.execute_reply.started": "2022-07-06T00:47:53.625850Z"
    },
    "papermill": {
     "duration": null,
     "end_time": null,
     "exception": null,
     "start_time": null,
     "status": "pending"
    },
    "tags": []
   },
   "outputs": [],
   "source": [
    "df_output = spark.table(\"32_R_distribution\")\n",
    "df_output"
   ]
  },
  {
   "cell_type": "code",
   "execution_count": null,
   "id": "262fea75",
   "metadata": {
    "execution": {
     "iopub.execute_input": "2022-07-06T00:48:25.688195Z",
     "iopub.status.busy": "2022-07-06T00:48:25.687782Z",
     "iopub.status.idle": "2022-07-06T00:48:25.788471Z",
     "shell.execute_reply": "2022-07-06T00:48:25.787625Z",
     "shell.execute_reply.started": "2022-07-06T00:48:25.688149Z"
    },
    "papermill": {
     "duration": null,
     "end_time": null,
     "exception": null,
     "start_time": null,
     "status": "pending"
    },
    "tags": []
   },
   "outputs": [],
   "source": [
    "df_output.toPandas().to_csv('./32_R_distribution.csv')"
   ]
  },
  {
   "cell_type": "markdown",
   "id": "3da1fafe",
   "metadata": {
    "papermill": {
     "duration": null,
     "end_time": null,
     "exception": null,
     "start_time": null,
     "status": "pending"
    },
    "tags": []
   },
   "source": [
    "### 4.1 Items (80/20 model)"
   ]
  },
  {
   "cell_type": "code",
   "execution_count": null,
   "id": "6669e64f",
   "metadata": {
    "execution": {
     "iopub.execute_input": "2022-07-06T00:53:39.602237Z",
     "iopub.status.busy": "2022-07-06T00:53:39.601793Z",
     "iopub.status.idle": "2022-07-06T00:55:07.870115Z",
     "shell.execute_reply": "2022-07-06T00:55:07.868847Z",
     "shell.execute_reply.started": "2022-07-06T00:53:39.602204Z"
    },
    "papermill": {
     "duration": null,
     "end_time": null,
     "exception": null,
     "start_time": null,
     "status": "pending"
    },
    "tags": []
   },
   "outputs": [],
   "source": [
    "spark.sql(\" CREATE TABLE 41_item_sale AS ( SELECT item_id,  \\\n",
    "COUNT(item_id) AS buy_count  \\\n",
    "FROM user_behavior  \\\n",
    "WHERE behavior_type = \\\"buy\\\"  \\\n",
    "GROUP BY item_id  \\\n",
    "ORDER BY buy_count) \")  \\"
   ]
  },
  {
   "cell_type": "code",
   "execution_count": null,
   "id": "bb6903bc",
   "metadata": {
    "execution": {
     "iopub.execute_input": "2022-07-06T00:55:47.571610Z",
     "iopub.status.busy": "2022-07-06T00:55:47.571115Z",
     "iopub.status.idle": "2022-07-06T00:55:48.224474Z",
     "shell.execute_reply": "2022-07-06T00:55:48.223350Z",
     "shell.execute_reply.started": "2022-07-06T00:55:47.571549Z"
    },
    "papermill": {
     "duration": null,
     "end_time": null,
     "exception": null,
     "start_time": null,
     "status": "pending"
    },
    "tags": []
   },
   "outputs": [],
   "source": [
    "spark.sql(\" CREATE TABLE 41_item_sales_distribution ( SELECT buy_count,  \\\n",
    "COUNT(buy_count) AS item_count \\\n",
    "FROM 41_item_sale \\\n",
    "GROUP by buy_count  \\\n",
    "ORDER by buy_count ) \")"
   ]
  },
  {
   "cell_type": "code",
   "execution_count": null,
   "id": "4f584ed0",
   "metadata": {
    "execution": {
     "iopub.execute_input": "2022-07-06T00:55:50.011466Z",
     "iopub.status.busy": "2022-07-06T00:55:50.010257Z",
     "iopub.status.idle": "2022-07-06T00:55:50.165815Z",
     "shell.execute_reply": "2022-07-06T00:55:50.164702Z",
     "shell.execute_reply.started": "2022-07-06T00:55:50.011424Z"
    },
    "papermill": {
     "duration": null,
     "end_time": null,
     "exception": null,
     "start_time": null,
     "status": "pending"
    },
    "tags": []
   },
   "outputs": [],
   "source": [
    "df_output = spark.table(\"41_item_sales_distribution\")\n",
    "df_output"
   ]
  },
  {
   "cell_type": "code",
   "execution_count": null,
   "id": "32284bac",
   "metadata": {
    "execution": {
     "iopub.execute_input": "2022-07-06T00:55:59.640363Z",
     "iopub.status.busy": "2022-07-06T00:55:59.639956Z",
     "iopub.status.idle": "2022-07-06T00:55:59.716974Z",
     "shell.execute_reply": "2022-07-06T00:55:59.715945Z",
     "shell.execute_reply.started": "2022-07-06T00:55:59.640328Z"
    },
    "papermill": {
     "duration": null,
     "end_time": null,
     "exception": null,
     "start_time": null,
     "status": "pending"
    },
    "tags": []
   },
   "outputs": [],
   "source": [
    "df_output.toPandas().to_csv('./41_item_sales_distribution.csv')"
   ]
  },
  {
   "cell_type": "markdown",
   "id": "555c6f56",
   "metadata": {
    "papermill": {
     "duration": null,
     "end_time": null,
     "exception": null,
     "start_time": null,
     "status": "pending"
    },
    "tags": []
   },
   "source": [
    "### 4.1 category"
   ]
  },
  {
   "cell_type": "code",
   "execution_count": null,
   "id": "1c5a98fa",
   "metadata": {
    "papermill": {
     "duration": null,
     "end_time": null,
     "exception": null,
     "start_time": null,
     "status": "pending"
    },
    "tags": []
   },
   "outputs": [],
   "source": [
    "### category sales distrub"
   ]
  },
  {
   "cell_type": "code",
   "execution_count": null,
   "id": "cb9522de",
   "metadata": {
    "execution": {
     "iopub.execute_input": "2022-07-06T00:58:30.309192Z",
     "iopub.status.busy": "2022-07-06T00:58:30.308662Z",
     "iopub.status.idle": "2022-07-06T00:59:50.596019Z",
     "shell.execute_reply": "2022-07-06T00:59:50.595106Z",
     "shell.execute_reply.started": "2022-07-06T00:58:30.309142Z"
    },
    "papermill": {
     "duration": null,
     "end_time": null,
     "exception": null,
     "start_time": null,
     "status": "pending"
    },
    "tags": []
   },
   "outputs": [],
   "source": [
    "spark.sql(\" CREATE TABLE 42_cat_sale  AS ( SELECT category_id,  \\\n",
    "COUNT(category_id) AS buy_count  \\\n",
    "FROM user_behavior  \\\n",
    "WHERE behavior_type = \\\"buy\\\"  \\\n",
    "GROUP BY category_id  \\\n",
    "ORDER BY buy_count) \")  \\"
   ]
  },
  {
   "cell_type": "code",
   "execution_count": null,
   "id": "45970a7c",
   "metadata": {
    "execution": {
     "iopub.execute_input": "2022-07-06T00:59:50.598476Z",
     "iopub.status.busy": "2022-07-06T00:59:50.597885Z",
     "iopub.status.idle": "2022-07-06T00:59:51.064475Z",
     "shell.execute_reply": "2022-07-06T00:59:51.063648Z",
     "shell.execute_reply.started": "2022-07-06T00:59:50.598443Z"
    },
    "papermill": {
     "duration": null,
     "end_time": null,
     "exception": null,
     "start_time": null,
     "status": "pending"
    },
    "tags": []
   },
   "outputs": [],
   "source": [
    "spark.sql(\" CREATE TABLE 42_cat_sales_distribution  ( SELECT buy_count,  \\\n",
    "COUNT(buy_count) AS cat_count \\\n",
    "FROM 42_cat_sale \\\n",
    "GROUP by buy_count  \\\n",
    "ORDER by buy_count ) \")"
   ]
  },
  {
   "cell_type": "code",
   "execution_count": null,
   "id": "fddcdd81",
   "metadata": {
    "execution": {
     "iopub.execute_input": "2022-07-06T01:01:42.095918Z",
     "iopub.status.busy": "2022-07-06T01:01:42.095444Z",
     "iopub.status.idle": "2022-07-06T01:01:42.240907Z",
     "shell.execute_reply": "2022-07-06T01:01:42.239993Z",
     "shell.execute_reply.started": "2022-07-06T01:01:42.095884Z"
    },
    "papermill": {
     "duration": null,
     "end_time": null,
     "exception": null,
     "start_time": null,
     "status": "pending"
    },
    "tags": []
   },
   "outputs": [],
   "source": [
    "df_output = spark.table(\"42_cat_sales_distribution \")\n",
    "df_output"
   ]
  },
  {
   "cell_type": "code",
   "execution_count": null,
   "id": "adfef210",
   "metadata": {
    "execution": {
     "iopub.execute_input": "2022-07-06T01:01:51.545698Z",
     "iopub.status.busy": "2022-07-06T01:01:51.544391Z",
     "iopub.status.idle": "2022-07-06T01:01:51.619779Z",
     "shell.execute_reply": "2022-07-06T01:01:51.618853Z",
     "shell.execute_reply.started": "2022-07-06T01:01:51.545641Z"
    },
    "papermill": {
     "duration": null,
     "end_time": null,
     "exception": null,
     "start_time": null,
     "status": "pending"
    },
    "tags": []
   },
   "outputs": [],
   "source": [
    "df_output.toPandas().to_csv('./42_cat_sales_distribution .csv')"
   ]
  },
  {
   "cell_type": "code",
   "execution_count": null,
   "id": "d13c3998",
   "metadata": {
    "papermill": {
     "duration": null,
     "end_time": null,
     "exception": null,
     "start_time": null,
     "status": "pending"
    },
    "tags": []
   },
   "outputs": [],
   "source": []
  }
 ],
 "metadata": {
  "kernelspec": {
   "display_name": "Python 3",
   "language": "python",
   "name": "python3"
  },
  "language_info": {
   "codemirror_mode": {
    "name": "ipython",
    "version": 3
   },
   "file_extension": ".py",
   "mimetype": "text/x-python",
   "name": "python",
   "nbconvert_exporter": "python",
   "pygments_lexer": "ipython3",
   "version": "3.7.12"
  },
  "papermill": {
   "default_parameters": {},
   "duration": 308.641658,
   "end_time": "2022-07-06T01:08:11.525595",
   "environment_variables": {},
   "exception": true,
   "input_path": "__notebook__.ipynb",
   "output_path": "__notebook__.ipynb",
   "parameters": {},
   "start_time": "2022-07-06T01:03:02.883937",
   "version": "2.3.4"
  }
 },
 "nbformat": 4,
 "nbformat_minor": 5
}
