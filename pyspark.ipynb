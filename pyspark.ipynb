{
 "cells": [
  {
   "cell_type": "code",
   "execution_count": null,
   "metadata": {
    "execution": {
     "iopub.execute_input": "2022-07-05T23:10:47.691107Z",
     "iopub.status.busy": "2022-07-05T23:10:47.690457Z",
     "iopub.status.idle": "2022-07-05T23:11:49.42407Z",
     "shell.execute_reply": "2022-07-05T23:11:49.422975Z",
     "shell.execute_reply.started": "2022-07-05T23:10:47.691069Z"
    }
   },
   "outputs": [],
   "source": [
    "!pip install pyspark\n",
    "!pip install findspark"
   ]
  },
  {
   "cell_type": "code",
   "execution_count": null,
   "metadata": {
    "execution": {
     "iopub.execute_input": "2022-07-05T23:11:49.426922Z",
     "iopub.status.busy": "2022-07-05T23:11:49.426575Z",
     "iopub.status.idle": "2022-07-05T23:11:56.266096Z",
     "shell.execute_reply": "2022-07-05T23:11:56.264993Z",
     "shell.execute_reply.started": "2022-07-05T23:11:49.426876Z"
    }
   },
   "outputs": [],
   "source": [
    "import findspark\n",
    "findspark.init()\n",
    "from pyspark.sql import SparkSession\n",
    "spark = SparkSession.builder.master(\"local[*]\").enableHiveSupport().getOrCreate()\n",
    "## spark = SparkSession.builder.appName(\"SparkSQLExampleApp\") .getOrCreate()\n",
    "\n",
    "spark.conf.set(\"spark.sql.legacy.createHiveTableByDefault\", False)\n",
    "spark.conf.set(\"spark.sql.repl.eagerEval.enabled\", True) # Property used to format output tables better\n",
    "spark.conf.set(\"spark.sql.session.timeZone\", 'UTC+08:00') ## SET TIME ZONE 'Asia/Shanghai';"
   ]
  },
  {
   "cell_type": "code",
   "execution_count": null,
   "metadata": {
    "execution": {
     "iopub.execute_input": "2022-07-05T23:11:56.270211Z",
     "iopub.status.busy": "2022-07-05T23:11:56.269808Z",
     "iopub.status.idle": "2022-07-05T23:11:56.277258Z",
     "shell.execute_reply": "2022-07-05T23:11:56.276149Z",
     "shell.execute_reply.started": "2022-07-05T23:11:56.270173Z"
    }
   },
   "outputs": [],
   "source": [
    "import time \n",
    "##  %time  next line \n",
    "##  %%time  whole cell \n",
    "from pyspark.sql.functions import *\n",
    "from pyspark.sql.types import ByteType, IntegerType, DateType, StringType"
   ]
  },
  {
   "cell_type": "code",
   "execution_count": null,
   "metadata": {
    "execution": {
     "iopub.execute_input": "2022-07-05T23:11:56.28142Z",
     "iopub.status.busy": "2022-07-05T23:11:56.2807Z",
     "iopub.status.idle": "2022-07-05T23:12:01.655342Z",
     "shell.execute_reply": "2022-07-05T23:12:01.654068Z",
     "shell.execute_reply.started": "2022-07-05T23:11:56.281367Z"
    }
   },
   "outputs": [],
   "source": [
    "df=spark.read.csv(\"../input/userdata/UserBehavior.csv\") \n",
    "df.schema.names"
   ]
  },
  {
   "cell_type": "markdown",
   "metadata": {},
   "source": [
    "## 1. Data Cleaning "
   ]
  },
  {
   "cell_type": "code",
   "execution_count": null,
   "metadata": {
    "execution": {
     "iopub.execute_input": "2022-07-05T23:12:01.662969Z",
     "iopub.status.busy": "2022-07-05T23:12:01.659945Z",
     "iopub.status.idle": "2022-07-05T23:12:01.692229Z",
     "shell.execute_reply": "2022-07-05T23:12:01.691209Z",
     "shell.execute_reply.started": "2022-07-05T23:12:01.662896Z"
    }
   },
   "outputs": [],
   "source": [
    "## 1.1 column name \n",
    "df = df.toDF(\"user_id\", \"item_id\", \"category_id\", \"behavior_type\", \"input_timestamp\")"
   ]
  },
  {
   "cell_type": "code",
   "execution_count": null,
   "metadata": {
    "execution": {
     "iopub.execute_input": "2022-07-05T23:12:01.69353Z",
     "iopub.status.busy": "2022-07-05T23:12:01.693222Z",
     "iopub.status.idle": "2022-07-05T23:12:01.742512Z",
     "shell.execute_reply": "2022-07-05T23:12:01.741585Z",
     "shell.execute_reply.started": "2022-07-05T23:12:01.693502Z"
    }
   },
   "outputs": [],
   "source": [
    "## 1.2 data format \n",
    "## Unix time - Epoch time - seconds passed since Epoch time 1970-01-01 00:00:00 UTC. \n",
    "## do not put show at the end \n",
    "df = df.withColumn(\"tt\", from_unixtime(\"input_timestamp\"))"
   ]
  },
  {
   "cell_type": "code",
   "execution_count": null,
   "metadata": {
    "execution": {
     "iopub.execute_input": "2022-07-05T23:12:01.743748Z",
     "iopub.status.busy": "2022-07-05T23:12:01.743433Z",
     "iopub.status.idle": "2022-07-05T23:12:01.812871Z",
     "shell.execute_reply": "2022-07-05T23:12:01.811576Z",
     "shell.execute_reply.started": "2022-07-05T23:12:01.74372Z"
    }
   },
   "outputs": [],
   "source": [
    "df = df.withColumn(\"d\", to_date(\"tt\")).withColumn(\"h\", hour(\"tt\"))\n",
    "## df.withColumn(\"hour\", substring(\"timestamp\", 0, 13)).show()"
   ]
  },
  {
   "cell_type": "code",
   "execution_count": null,
   "metadata": {
    "execution": {
     "iopub.execute_input": "2022-07-05T23:12:01.814547Z",
     "iopub.status.busy": "2022-07-05T23:12:01.814126Z",
     "iopub.status.idle": "2022-07-05T23:12:01.841457Z",
     "shell.execute_reply": "2022-07-05T23:12:01.840179Z",
     "shell.execute_reply.started": "2022-07-05T23:12:01.814509Z"
    }
   },
   "outputs": [],
   "source": [
    "df = df.drop(\"input_timestamp\", \"tt\") "
   ]
  },
  {
   "cell_type": "code",
   "execution_count": null,
   "metadata": {
    "execution": {
     "iopub.execute_input": "2022-07-05T23:12:01.843388Z",
     "iopub.status.busy": "2022-07-05T23:12:01.842919Z",
     "iopub.status.idle": "2022-07-05T23:12:02.335577Z",
     "shell.execute_reply": "2022-07-05T23:12:02.334546Z",
     "shell.execute_reply.started": "2022-07-05T23:12:01.843343Z"
    }
   },
   "outputs": [],
   "source": [
    "df.show(5)"
   ]
  },
  {
   "cell_type": "code",
   "execution_count": null,
   "metadata": {
    "execution": {
     "iopub.execute_input": "2022-07-05T23:12:02.338997Z",
     "iopub.status.busy": "2022-07-05T23:12:02.33867Z",
     "iopub.status.idle": "2022-07-05T23:12:02.435039Z",
     "shell.execute_reply": "2022-07-05T23:12:02.434062Z",
     "shell.execute_reply.started": "2022-07-05T23:12:02.338969Z"
    }
   },
   "outputs": [],
   "source": [
    "## 1.2 Data Type\n",
    "df = df.withColumn(\"user_id\",col(\"user_id\").cast(\"Integer\")).withColumn(\"item_id\",col(\"item_id\").cast(\"Integer\"))\n",
    "df = df.withColumn(\"category_id\",col(\"category_id\").cast(\"Integer\"))\n",
    "df = df.withColumn(\"d\",col(\"d\").cast(\"Date\")).withColumn(\"h\", col(\"h\").cast(\"Integer\"))"
   ]
  },
  {
   "cell_type": "code",
   "execution_count": null,
   "metadata": {
    "execution": {
     "iopub.execute_input": "2022-07-05T23:12:02.43671Z",
     "iopub.status.busy": "2022-07-05T23:12:02.436234Z",
     "iopub.status.idle": "2022-07-05T23:12:02.445189Z",
     "shell.execute_reply": "2022-07-05T23:12:02.443989Z",
     "shell.execute_reply.started": "2022-07-05T23:12:02.436667Z"
    }
   },
   "outputs": [],
   "source": [
    "df.printSchema()"
   ]
  },
  {
   "cell_type": "code",
   "execution_count": null,
   "metadata": {
    "execution": {
     "iopub.execute_input": "2022-07-05T23:12:02.448131Z",
     "iopub.status.busy": "2022-07-05T23:12:02.447275Z",
     "iopub.status.idle": "2022-07-05T23:12:02.456321Z",
     "shell.execute_reply": "2022-07-05T23:12:02.455413Z",
     "shell.execute_reply.started": "2022-07-05T23:12:02.448085Z"
    }
   },
   "outputs": [],
   "source": [
    "## 1.3 null value \n",
    "\n",
    "## df.filter(df.user_id.isNull() & df.item_id.isNull() & df.category_id.isNull() \\\n",
    "##         & df.category_id.isNull() & df.input_timestamp.isNull()).show()\n",
    "\n",
    "## no null value "
   ]
  },
  {
   "cell_type": "code",
   "execution_count": null,
   "metadata": {
    "execution": {
     "iopub.execute_input": "2022-07-05T23:12:02.459212Z",
     "iopub.status.busy": "2022-07-05T23:12:02.458289Z",
     "iopub.status.idle": "2022-07-05T23:12:02.473267Z",
     "shell.execute_reply": "2022-07-05T23:12:02.472032Z",
     "shell.execute_reply.started": "2022-07-05T23:12:02.459162Z"
    }
   },
   "outputs": [],
   "source": [
    "\n",
    "## 1.4 repeated value \n",
    "\n",
    "## df.dropDuplicates()\n",
    "\n",
    "## df.groupBy(\"user_id\", \"item_id\", \"category_id\", \"behavior_type\", \"input_timestamp\").count()\n",
    "\n",
    "## %time : long running time \n",
    "## explaintion: repeated with multiple devices\n"
   ]
  },
  {
   "cell_type": "code",
   "execution_count": null,
   "metadata": {
    "execution": {
     "iopub.execute_input": "2022-07-05T23:12:02.476606Z",
     "iopub.status.busy": "2022-07-05T23:12:02.475075Z",
     "iopub.status.idle": "2022-07-05T23:12:02.484542Z",
     "shell.execute_reply": "2022-07-05T23:12:02.483079Z",
     "shell.execute_reply.started": "2022-07-05T23:12:02.476534Z"
    }
   },
   "outputs": [],
   "source": [
    "## df.count()\n",
    "## 100150807"
   ]
  },
  {
   "cell_type": "code",
   "execution_count": null,
   "metadata": {
    "execution": {
     "iopub.execute_input": "2022-07-05T23:12:02.487466Z",
     "iopub.status.busy": "2022-07-05T23:12:02.486534Z",
     "iopub.status.idle": "2022-07-05T23:12:02.497009Z",
     "shell.execute_reply": "2022-07-05T23:12:02.495696Z",
     "shell.execute_reply.started": "2022-07-05T23:12:02.487417Z"
    }
   },
   "outputs": [],
   "source": [
    "## 1.5 anomaly \n",
    "\n",
    "## df_anomaly_lower = df.filter(df.d < '2017-11-25')\n",
    "## df_anomaly_higher = df.filter(df.d > '2017-12-03')\n",
    "\n",
    "## df_anomaly_higher.count()\n",
    "## 2428\n",
    "## df_anomaly_lower.count()\n",
    "## 53148"
   ]
  },
  {
   "cell_type": "code",
   "execution_count": null,
   "metadata": {
    "execution": {
     "iopub.execute_input": "2022-07-05T23:12:02.498696Z",
     "iopub.status.busy": "2022-07-05T23:12:02.498306Z",
     "iopub.status.idle": "2022-07-05T23:12:02.509396Z",
     "shell.execute_reply": "2022-07-05T23:12:02.508458Z",
     "shell.execute_reply.started": "2022-07-05T23:12:02.498665Z"
    }
   },
   "outputs": [],
   "source": [
    "## higher_sample = df_anomaly_higher.sample(False, 0.1, seed=0)\n",
    "## higher_sample\n",
    "## lower_sample = df_anomaly_lower.sample(False, 0.1, seed=0)\n",
    "## lower_sample\n",
    "\n",
    "## sample with replacement (default False)."
   ]
  },
  {
   "cell_type": "code",
   "execution_count": null,
   "metadata": {
    "execution": {
     "iopub.execute_input": "2022-07-05T23:12:02.512138Z",
     "iopub.status.busy": "2022-07-05T23:12:02.511066Z",
     "iopub.status.idle": "2022-07-05T23:12:02.552812Z",
     "shell.execute_reply": "2022-07-05T23:12:02.551627Z",
     "shell.execute_reply.started": "2022-07-05T23:12:02.51209Z"
    }
   },
   "outputs": [],
   "source": [
    "df = df.filter((df.d > '2017-11-24') & (df.d < '2017-12-04') )\n",
    "\n",
    "## df.count()\n",
    "## 100095231"
   ]
  },
  {
   "cell_type": "code",
   "execution_count": null,
   "metadata": {
    "execution": {
     "iopub.execute_input": "2022-07-05T23:12:02.554614Z",
     "iopub.status.busy": "2022-07-05T23:12:02.554242Z",
     "iopub.status.idle": "2022-07-05T23:12:02.560957Z",
     "shell.execute_reply": "2022-07-05T23:12:02.559648Z",
     "shell.execute_reply.started": "2022-07-05T23:12:02.554554Z"
    }
   },
   "outputs": [],
   "source": [
    "## df.withColumn(\"row_num\", row_number().over(Window.partitionBy(\"Group\") \n",
    "## row_number(): only used on partitionBy\n",
    "## groupBy vs partitionBy\n",
    "\n",
    "## df.count()\n",
    "## df.distinct().count()\n",
    "## output00 = df.select(countDistinct(\"user_id\", \"item_id\", \"category_id\", \"behavior_type\", \"input_timestamp\"))\n",
    "\n",
    "## BIG DATA\n",
    "## https://www.mikulskibartosz.name/how-to-speed-up-pyspark/\n",
    "## spark.default.parallelism "
   ]
  },
  {
   "cell_type": "markdown",
   "metadata": {},
   "source": [
    "## 2. Data Analysis"
   ]
  },
  {
   "cell_type": "code",
   "execution_count": null,
   "metadata": {
    "execution": {
     "iopub.execute_input": "2022-07-05T23:12:02.564058Z",
     "iopub.status.busy": "2022-07-05T23:12:02.562687Z",
     "iopub.status.idle": "2022-07-05T23:12:02.630737Z",
     "shell.execute_reply": "2022-07-05T23:12:02.629492Z",
     "shell.execute_reply.started": "2022-07-05T23:12:02.564012Z"
    }
   },
   "outputs": [],
   "source": [
    "df.registerTempTable(\"user_behavior\")\n",
    "## df.createOrReplaceTempView(\"user_behavior\")"
   ]
  },
  {
   "cell_type": "code",
   "execution_count": null,
   "metadata": {
    "execution": {
     "iopub.execute_input": "2022-07-05T23:12:02.632392Z",
     "iopub.status.busy": "2022-07-05T23:12:02.631983Z",
     "iopub.status.idle": "2022-07-05T23:12:02.639176Z",
     "shell.execute_reply": "2022-07-05T23:12:02.638121Z",
     "shell.execute_reply.started": "2022-07-05T23:12:02.632349Z"
    }
   },
   "outputs": [],
   "source": [
    "df.printSchema()"
   ]
  },
  {
   "cell_type": "code",
   "execution_count": null,
   "metadata": {
    "execution": {
     "iopub.execute_input": "2022-07-05T23:12:02.640476Z",
     "iopub.status.busy": "2022-07-05T23:12:02.640115Z",
     "iopub.status.idle": "2022-07-05T23:12:13.777852Z",
     "shell.execute_reply": "2022-07-05T23:12:13.77524Z",
     "shell.execute_reply.started": "2022-07-05T23:12:02.640446Z"
    }
   },
   "outputs": [],
   "source": [
    "spark.sql(\" CREATE TABLE temp_behavior (SELECT * FROM user_behavior LIMIT 5) \")\n",
    "df_temp = spark.table(\"temp_behavior\")\n",
    "df_temp.printSchema()"
   ]
  },
  {
   "cell_type": "code",
   "execution_count": null,
   "metadata": {
    "execution": {
     "iopub.execute_input": "2022-07-05T23:12:13.780696Z",
     "iopub.status.busy": "2022-07-05T23:12:13.779295Z",
     "iopub.status.idle": "2022-07-05T23:12:13.981718Z",
     "shell.execute_reply": "2022-07-05T23:12:13.980635Z",
     "shell.execute_reply.started": "2022-07-05T23:12:13.780645Z"
    }
   },
   "outputs": [],
   "source": [
    "spark.sql(\" DESCRIBE user_behavior \")"
   ]
  },
  {
   "cell_type": "markdown",
   "metadata": {},
   "source": [
    "### 0.1    overview "
   ]
  },
  {
   "cell_type": "code",
   "execution_count": null,
   "metadata": {
    "execution": {
     "iopub.execute_input": "2022-07-05T23:12:58.732394Z",
     "iopub.status.busy": "2022-07-05T23:12:58.731944Z",
     "iopub.status.idle": "2022-07-05T23:12:58.802505Z",
     "shell.execute_reply": "2022-07-05T23:12:58.801466Z",
     "shell.execute_reply.started": "2022-07-05T23:12:58.732357Z"
    }
   },
   "outputs": [],
   "source": [
    "## index = df.count()\n",
    "## df_out = df.select(countDistinct(\"user_id\")) 100095231\n",
    "## df_out = df.select(countDistinct(\"item_id\")) 4161138\n",
    "## df_out = df.select(countDistinct(\"category_id\")) 9437\n",
    "## df.select(approx_count_distinct(\"item_id\")).collect() 4117166\n",
    "## df.select(countDistinct(\"user_id\", \"item_id\", \"category_id\")) together "
   ]
  },
  {
   "cell_type": "code",
   "execution_count": null,
   "metadata": {
    "execution": {
     "iopub.execute_input": "2022-07-05T23:13:05.03734Z",
     "iopub.status.busy": "2022-07-05T23:13:05.03691Z",
     "iopub.status.idle": "2022-07-05T23:18:48.017751Z",
     "shell.execute_reply": "2022-07-05T23:18:48.015893Z",
     "shell.execute_reply.started": "2022-07-05T23:13:05.037295Z"
    }
   },
   "outputs": [],
   "source": [
    "## df_out"
   ]
  },
  {
   "cell_type": "code",
   "execution_count": null,
   "metadata": {
    "execution": {
     "iopub.execute_input": "2022-07-05T23:20:45.605957Z",
     "iopub.status.busy": "2022-07-05T23:20:45.605373Z",
     "iopub.status.idle": "2022-07-05T23:20:45.613105Z",
     "shell.execute_reply": "2022-07-05T23:20:45.611989Z",
     "shell.execute_reply.started": "2022-07-05T23:20:45.605912Z"
    }
   },
   "outputs": [],
   "source": [
    "index = 100095231\n",
    "user_count = 987991\n",
    "item_count = 4161138\n",
    "category_count = 9437"
   ]
  },
  {
   "cell_type": "code",
   "execution_count": null,
   "metadata": {
    "execution": {
     "iopub.execute_input": "2022-07-05T23:25:59.441715Z",
     "iopub.status.busy": "2022-07-05T23:25:59.441307Z",
     "iopub.status.idle": "2022-07-05T23:25:59.447192Z",
     "shell.execute_reply": "2022-07-05T23:25:59.445708Z",
     "shell.execute_reply.started": "2022-07-05T23:25:59.441684Z"
    }
   },
   "outputs": [],
   "source": [
    "import pandas as pd \n",
    "import numpy as np"
   ]
  },
  {
   "cell_type": "code",
   "execution_count": null,
   "metadata": {
    "execution": {
     "iopub.execute_input": "2022-07-05T23:28:51.332973Z",
     "iopub.status.busy": "2022-07-05T23:28:51.332587Z",
     "iopub.status.idle": "2022-07-05T23:28:51.339648Z",
     "shell.execute_reply": "2022-07-05T23:28:51.338667Z",
     "shell.execute_reply.started": "2022-07-05T23:28:51.332942Z"
    }
   },
   "outputs": [],
   "source": [
    "columns = [\"index\",\"user_count\", \"user_count\", \"user_count\"]\n",
    "data =np.array((index, user_count, item_count, category_count)).reshape((1,4))\n",
    "df_output = pd.DataFrame(data, columns = columns)"
   ]
  },
  {
   "cell_type": "code",
   "execution_count": null,
   "metadata": {
    "execution": {
     "iopub.execute_input": "2022-07-05T23:29:23.185987Z",
     "iopub.status.busy": "2022-07-05T23:29:23.185609Z",
     "iopub.status.idle": "2022-07-05T23:29:23.193286Z",
     "shell.execute_reply": "2022-07-05T23:29:23.191749Z",
     "shell.execute_reply.started": "2022-07-05T23:29:23.185957Z"
    }
   },
   "outputs": [],
   "source": [
    "df_output.to_csv('./01_overview.csv')"
   ]
  },
  {
   "cell_type": "markdown",
   "metadata": {},
   "source": [
    "### 1.1 traffic_conversion "
   ]
  },
  {
   "cell_type": "code",
   "execution_count": null,
   "metadata": {
    "execution": {
     "iopub.execute_input": "2022-07-05T23:32:48.500732Z",
     "iopub.status.busy": "2022-07-05T23:32:48.50031Z",
     "iopub.status.idle": "2022-07-05T23:35:34.758507Z",
     "shell.execute_reply": "2022-07-05T23:35:34.757461Z",
     "shell.execute_reply.started": "2022-07-05T23:32:48.500698Z"
    }
   },
   "outputs": [],
   "source": [
    "spark.sql(\" CREATE TABLE 11_traffic_conversion ( SELECT SUM(CASE WHEN behavior_type ='pv' THEN 1 ELSE 0 END) AS pv_count, \\\n",
    "SUM(CASE WHEN behavior_type ='fav' THEN 1 ELSE 0 END) AS fav_count, \\\n",
    "SUM(CASE WHEN behavior_type ='cart' THEN 1 ELSE 0 END) AS cart_count, \\\n",
    "SUM(CASE WHEN behavior_type ='buy' THEN 1 ELSE 0 END) AS buy_count \\\n",
    "FROM user_behavior ) \")"
   ]
  },
  {
   "cell_type": "code",
   "execution_count": null,
   "metadata": {
    "execution": {
     "iopub.execute_input": "2022-07-05T23:35:42.647525Z",
     "iopub.status.busy": "2022-07-05T23:35:42.647115Z",
     "iopub.status.idle": "2022-07-05T23:35:43.159637Z",
     "shell.execute_reply": "2022-07-05T23:35:43.158571Z",
     "shell.execute_reply.started": "2022-07-05T23:35:42.647491Z"
    }
   },
   "outputs": [],
   "source": [
    "%%time\n",
    "df_output = spark.table(\"11_traffic_conversion\")\n",
    "df_output"
   ]
  },
  {
   "cell_type": "code",
   "execution_count": null,
   "metadata": {
    "execution": {
     "iopub.execute_input": "2022-07-05T23:36:18.383471Z",
     "iopub.status.busy": "2022-07-05T23:36:18.383069Z",
     "iopub.status.idle": "2022-07-05T23:36:18.45451Z",
     "shell.execute_reply": "2022-07-05T23:36:18.453361Z",
     "shell.execute_reply.started": "2022-07-05T23:36:18.38344Z"
    }
   },
   "outputs": [],
   "source": [
    "%%time\n",
    "df_output.toPandas().to_csv('./11_traffic_conversion.csv')"
   ]
  },
  {
   "cell_type": "markdown",
   "metadata": {},
   "source": [
    "### 1.2 user_conversion "
   ]
  },
  {
   "cell_type": "code",
   "execution_count": null,
   "metadata": {
    "execution": {
     "iopub.execute_input": "2022-07-05T23:42:03.930618Z",
     "iopub.status.busy": "2022-07-05T23:42:03.929582Z",
     "iopub.status.idle": "2022-07-05T23:45:59.574949Z",
     "shell.execute_reply": "2022-07-05T23:45:59.573833Z",
     "shell.execute_reply.started": "2022-07-05T23:42:03.930547Z"
    }
   },
   "outputs": [],
   "source": [
    "spark.sql(\" CREATE TABLE 12_user_behavior_count ( SELECT user_id, \\\n",
    "SUM(CASE WHEN behavior_type ='pv' THEN 1 ELSE 0 END) AS pv_count, \\\n",
    "SUM(CASE WHEN behavior_type ='fav' THEN 1 ELSE 0 END) AS fav_count, \\\n",
    "SUM(CASE WHEN behavior_type ='cart' THEN 1 ELSE 0 END) AS cart_count, \\\n",
    "SUM(CASE WHEN behavior_type ='buy' THEN 1 ELSE 0 END) AS buy_count \\\n",
    "FROM user_behavior \\\n",
    "GROUP BY user_id) \")\n"
   ]
  },
  {
   "cell_type": "code",
   "execution_count": null,
   "metadata": {
    "execution": {
     "iopub.execute_input": "2022-07-06T00:00:49.297028Z",
     "iopub.status.busy": "2022-07-06T00:00:49.296644Z",
     "iopub.status.idle": "2022-07-06T00:00:49.977335Z",
     "shell.execute_reply": "2022-07-06T00:00:49.976086Z",
     "shell.execute_reply.started": "2022-07-06T00:00:49.296997Z"
    }
   },
   "outputs": [],
   "source": [
    "spark.sql(\" CREATE TABLE 12_user_conversion ( select SUM(CASE WHEN  pv_count > 0 THEN 1 ELSE 0 END) AS pv_user_count, \\\n",
    "SUM(CASE WHEN  fav_count > 0 THEN 1 ELSE 0 END) AS fav_user_count, \\\n",
    "SUM(CASE WHEN  cart_count > 0 THEN 1 ELSE 0 END) AS cart_user_count, \\\n",
    "SUM(CASE WHEN  buy_count > 0 THEN 1 ELSE 0 END) AS buy_user_count \\\n",
    "from 12_user_behavior_type ) \")"
   ]
  },
  {
   "cell_type": "code",
   "execution_count": null,
   "metadata": {
    "execution": {
     "iopub.execute_input": "2022-07-06T00:01:55.82867Z",
     "iopub.status.busy": "2022-07-06T00:01:55.828174Z",
     "iopub.status.idle": "2022-07-06T00:01:56.030716Z",
     "shell.execute_reply": "2022-07-06T00:01:56.029648Z",
     "shell.execute_reply.started": "2022-07-06T00:01:55.828633Z"
    }
   },
   "outputs": [],
   "source": [
    "df_output = spark.table(\"12_user_conversion\")\n",
    "df_output"
   ]
  },
  {
   "cell_type": "code",
   "execution_count": null,
   "metadata": {
    "execution": {
     "iopub.execute_input": "2022-07-06T00:07:52.075293Z",
     "iopub.status.busy": "2022-07-06T00:07:52.074479Z",
     "iopub.status.idle": "2022-07-06T00:07:52.130072Z",
     "shell.execute_reply": "2022-07-06T00:07:52.129079Z",
     "shell.execute_reply.started": "2022-07-06T00:07:52.07525Z"
    }
   },
   "outputs": [],
   "source": [
    "df_output.toPandas().to_csv('./12_user_conversion.csv')"
   ]
  },
  {
   "cell_type": "markdown",
   "metadata": {},
   "source": [
    "### 2.1 user_in_days "
   ]
  },
  {
   "cell_type": "code",
   "execution_count": null,
   "metadata": {
    "execution": {
     "iopub.execute_input": "2022-07-06T00:11:51.192904Z",
     "iopub.status.busy": "2022-07-06T00:11:51.192402Z",
     "iopub.status.idle": "2022-07-06T00:16:33.667919Z",
     "shell.execute_reply": "2022-07-06T00:16:33.666653Z",
     "shell.execute_reply.started": "2022-07-06T00:11:51.192866Z"
    }
   },
   "outputs": [],
   "source": [
    "spark.sql(\" CREATE TABLE 21_user_in_days (SELECT d, \\\n",
    "COUNT(DISTINCT (user_id)) AS user_count, \\\n",
    "SUM(CASE WHEN behavior_type ='pv' THEN 1 ELSE 0 END) AS pv_count, \\\n",
    "SUM(CASE WHEN behavior_type ='fav' THEN 1 ELSE 0 END) AS fav_count, \\\n",
    "SUM(CASE WHEN behavior_type ='cart' THEN 1 ELSE 0 END) AS cart_count, \\\n",
    "SUM(CASE WHEN behavior_type ='buy' THEN 1 ELSE 0 END) AS buy_count \\\n",
    "FROM user_behavior \\\n",
    "GROUP BY d \\\n",
    "ORDER BY d )\")"
   ]
  },
  {
   "cell_type": "code",
   "execution_count": null,
   "metadata": {
    "execution": {
     "iopub.execute_input": "2022-07-06T00:17:02.01854Z",
     "iopub.status.busy": "2022-07-06T00:17:02.017854Z",
     "iopub.status.idle": "2022-07-06T00:17:02.400266Z",
     "shell.execute_reply": "2022-07-06T00:17:02.398768Z",
     "shell.execute_reply.started": "2022-07-06T00:17:02.018503Z"
    }
   },
   "outputs": [],
   "source": [
    "df_output = spark.table(\"21_user_in_days\")\n",
    "df_output"
   ]
  },
  {
   "cell_type": "code",
   "execution_count": null,
   "metadata": {
    "execution": {
     "iopub.execute_input": "2022-07-06T00:17:10.654064Z",
     "iopub.status.busy": "2022-07-06T00:17:10.653687Z",
     "iopub.status.idle": "2022-07-06T00:17:10.784224Z",
     "shell.execute_reply": "2022-07-06T00:17:10.782929Z",
     "shell.execute_reply.started": "2022-07-06T00:17:10.654032Z"
    }
   },
   "outputs": [],
   "source": [
    "df_output.toPandas().to_csv('./21_user_in_days.csv')"
   ]
  },
  {
   "cell_type": "markdown",
   "metadata": {},
   "source": [
    "### 2.2 user_in_hours "
   ]
  },
  {
   "cell_type": "code",
   "execution_count": null,
   "metadata": {
    "execution": {
     "iopub.execute_input": "2022-07-06T00:18:15.29029Z",
     "iopub.status.busy": "2022-07-06T00:18:15.28981Z",
     "iopub.status.idle": "2022-07-06T00:22:56.1461Z",
     "shell.execute_reply": "2022-07-06T00:22:56.144647Z",
     "shell.execute_reply.started": "2022-07-06T00:18:15.290251Z"
    }
   },
   "outputs": [],
   "source": [
    "spark.sql(\" CREATE TABLE 22_user_in_hours  (SELECT h, \\\n",
    "COUNT(DISTINCT (user_id)) AS user_count, \\\n",
    "SUM(CASE WHEN behavior_type ='pv' THEN 1 ELSE 0 END) AS pv_count, \\\n",
    "SUM(CASE WHEN behavior_type ='fav' THEN 1 ELSE 0 END) AS fav_count, \\\n",
    "SUM(CASE WHEN behavior_type ='cart' THEN 1 ELSE 0 END) AS cart_count, \\\n",
    "SUM(CASE WHEN behavior_type ='buy' THEN 1 ELSE 0 END) AS buy_count \\\n",
    "FROM user_behavior \\\n",
    "GROUP BY h \\\n",
    "ORDER BY h )\")"
   ]
  },
  {
   "cell_type": "code",
   "execution_count": null,
   "metadata": {
    "execution": {
     "iopub.execute_input": "2022-07-06T00:22:56.15076Z",
     "iopub.status.busy": "2022-07-06T00:22:56.149864Z",
     "iopub.status.idle": "2022-07-06T00:22:56.439811Z",
     "shell.execute_reply": "2022-07-06T00:22:56.438499Z",
     "shell.execute_reply.started": "2022-07-06T00:22:56.150714Z"
    }
   },
   "outputs": [],
   "source": [
    "df_output = spark.table(\"22_user_in_hours\")\n",
    "df_output"
   ]
  },
  {
   "cell_type": "code",
   "execution_count": null,
   "metadata": {
    "execution": {
     "iopub.execute_input": "2022-07-06T00:24:10.557912Z",
     "iopub.status.busy": "2022-07-06T00:24:10.557453Z",
     "iopub.status.idle": "2022-07-06T00:24:10.640936Z",
     "shell.execute_reply": "2022-07-06T00:24:10.640018Z",
     "shell.execute_reply.started": "2022-07-06T00:24:10.557878Z"
    }
   },
   "outputs": [],
   "source": [
    "df_output.toPandas().to_csv('./22_user_in_hours.csv')"
   ]
  },
  {
   "cell_type": "markdown",
   "metadata": {},
   "source": [
    "### 3.1 RFM Model"
   ]
  },
  {
   "cell_type": "code",
   "execution_count": null,
   "metadata": {
    "execution": {
     "iopub.execute_input": "2022-07-06T00:27:37.373167Z",
     "iopub.status.busy": "2022-07-06T00:27:37.372795Z",
     "iopub.status.idle": "2022-07-06T00:28:51.290526Z",
     "shell.execute_reply": "2022-07-06T00:28:51.289509Z",
     "shell.execute_reply.started": "2022-07-06T00:27:37.373136Z"
    }
   },
   "outputs": [],
   "source": [
    "spark.sql(\" CREATE TABLE 31_RF (SELECT user_id, \\\n",
    "DATEDIFF('2017-12-03', max(d)) AS recency, \\\n",
    "COUNT(user_id) AS frequency \\\n",
    "FROM user_behavior \\\n",
    "WHERE behavior_type='buy' \\\n",
    "GROUP BY user_id \\\n",
    "ORDER BY recency) \")"
   ]
  },
  {
   "cell_type": "code",
   "execution_count": null,
   "metadata": {
    "execution": {
     "iopub.execute_input": "2022-07-06T00:32:40.492829Z",
     "iopub.status.busy": "2022-07-06T00:32:40.492333Z",
     "iopub.status.idle": "2022-07-06T00:32:42.176634Z",
     "shell.execute_reply": "2022-07-06T00:32:42.175442Z",
     "shell.execute_reply.started": "2022-07-06T00:32:40.492794Z"
    }
   },
   "outputs": [],
   "source": [
    "spark.sql(\" CREATE TABLE 31_RF_rating (SELECT user_id, \\\n",
    "(CASE WHEN recency > 3 THEN 1 \\\n",
    "WHEN recency BETWEEN 2 and 3 THEN 2 \\\n",
    "WHEN recency BETWEEN 0 and 1 THEN 3 ELSE 0 END) AS R_rating, \\\n",
    "(CASE WHEN frequency BETWEEN 0 and 1 THEN 1 \\\n",
    "WHEN frequency BETWEEN 2 and 3 THEN 2 \\\n",
    "WHEN frequency >3 THEN 3 ELSE 0 END ) AS F_rating \\\n",
    "FROM 31_RF \\\n",
    "ORDER BY R_rating, F_rating) \")"
   ]
  },
  {
   "cell_type": "code",
   "execution_count": null,
   "metadata": {
    "execution": {
     "iopub.execute_input": "2022-07-06T00:35:17.472002Z",
     "iopub.status.busy": "2022-07-06T00:35:17.471478Z",
     "iopub.status.idle": "2022-07-06T00:35:17.549232Z",
     "shell.execute_reply": "2022-07-06T00:35:17.548019Z",
     "shell.execute_reply.started": "2022-07-06T00:35:17.471958Z"
    }
   },
   "outputs": [],
   "source": [
    "## df_test_RF = spark.sql(\" select * from 31_RF limit 20 \")\n",
    "## df_test_RF_rating = spark.sql(\" select * from 31_RF_rating limit 20 \")\n",
    "## df_test_RF\n",
    "## df_test_RF_rating"
   ]
  },
  {
   "cell_type": "code",
   "execution_count": null,
   "metadata": {
    "execution": {
     "iopub.execute_input": "2022-07-06T00:41:25.227221Z",
     "iopub.status.busy": "2022-07-06T00:41:25.226833Z",
     "iopub.status.idle": "2022-07-06T00:41:25.918884Z",
     "shell.execute_reply": "2022-07-06T00:41:25.917533Z",
     "shell.execute_reply.started": "2022-07-06T00:41:25.227184Z"
    }
   },
   "outputs": [],
   "source": [
    "spark.sql(\" CREATE TABLE 31_RF_caculation (SELECT R_rating, \\\n",
    "F_rating, \\\n",
    "COUNT(*) AS RF_count \\\n",
    "FROM 31_RF_rating \\\n",
    "GROUP BY R_rating, F_rating \\\n",
    "ORDER BY R_rating, F_rating ) \")"
   ]
  },
  {
   "cell_type": "code",
   "execution_count": null,
   "metadata": {
    "execution": {
     "iopub.execute_input": "2022-07-06T00:41:41.915641Z",
     "iopub.status.busy": "2022-07-06T00:41:41.915162Z",
     "iopub.status.idle": "2022-07-06T00:41:42.111576Z",
     "shell.execute_reply": "2022-07-06T00:41:42.110415Z",
     "shell.execute_reply.started": "2022-07-06T00:41:41.915607Z"
    }
   },
   "outputs": [],
   "source": [
    "df_output = spark.table(\"31_RF_caculation\")\n",
    "df_output"
   ]
  },
  {
   "cell_type": "code",
   "execution_count": null,
   "metadata": {
    "execution": {
     "iopub.execute_input": "2022-07-06T00:42:14.746524Z",
     "iopub.status.busy": "2022-07-06T00:42:14.741719Z",
     "iopub.status.idle": "2022-07-06T00:42:15.223741Z",
     "shell.execute_reply": "2022-07-06T00:42:15.222638Z",
     "shell.execute_reply.started": "2022-07-06T00:42:14.74639Z"
    }
   },
   "outputs": [],
   "source": [
    "df_output.toPandas().to_csv('./31_RF_caculation.csv')"
   ]
  },
  {
   "cell_type": "code",
   "execution_count": null,
   "metadata": {
    "execution": {
     "iopub.execute_input": "2022-07-06T00:45:19.738613Z",
     "iopub.status.busy": "2022-07-06T00:45:19.738233Z",
     "iopub.status.idle": "2022-07-06T00:45:20.597346Z",
     "shell.execute_reply": "2022-07-06T00:45:20.596544Z",
     "shell.execute_reply.started": "2022-07-06T00:45:19.738582Z"
    }
   },
   "outputs": [],
   "source": [
    "spark.sql(\" CREATE TABLE 32_F_distribution (SELECT frequency, \\\n",
    "COUNT(frequency) AS user_count \\\n",
    "FROM 31_RF \\\n",
    "GROUP by frequency \\\n",
    "ORDER by frequency) \")"
   ]
  },
  {
   "cell_type": "code",
   "execution_count": null,
   "metadata": {
    "execution": {
     "iopub.execute_input": "2022-07-06T00:45:34.719255Z",
     "iopub.status.busy": "2022-07-06T00:45:34.718804Z",
     "iopub.status.idle": "2022-07-06T00:45:34.940768Z",
     "shell.execute_reply": "2022-07-06T00:45:34.939654Z",
     "shell.execute_reply.started": "2022-07-06T00:45:34.719207Z"
    }
   },
   "outputs": [],
   "source": [
    "df_output = spark.table(\"32_F_distribution\")\n",
    "df_output"
   ]
  },
  {
   "cell_type": "code",
   "execution_count": null,
   "metadata": {
    "execution": {
     "iopub.execute_input": "2022-07-06T00:46:19.68135Z",
     "iopub.status.busy": "2022-07-06T00:46:19.68093Z",
     "iopub.status.idle": "2022-07-06T00:46:19.790998Z",
     "shell.execute_reply": "2022-07-06T00:46:19.789635Z",
     "shell.execute_reply.started": "2022-07-06T00:46:19.681316Z"
    }
   },
   "outputs": [],
   "source": [
    "df_output.toPandas().to_csv('./32_F_distribution.csv')"
   ]
  },
  {
   "cell_type": "code",
   "execution_count": null,
   "metadata": {
    "execution": {
     "iopub.execute_input": "2022-07-06T00:47:31.978336Z",
     "iopub.status.busy": "2022-07-06T00:47:31.977365Z",
     "iopub.status.idle": "2022-07-06T00:47:33.010009Z",
     "shell.execute_reply": "2022-07-06T00:47:33.008413Z",
     "shell.execute_reply.started": "2022-07-06T00:47:31.978291Z"
    }
   },
   "outputs": [],
   "source": [
    "spark.sql(\" CREATE TABLE 32_R_distribution (SELECT recency, \\\n",
    "COUNT(recency) AS user_count \\\n",
    "FROM 31_RF \\\n",
    "GROUP by recency \\\n",
    "ORDER by recency) \")"
   ]
  },
  {
   "cell_type": "code",
   "execution_count": null,
   "metadata": {
    "execution": {
     "iopub.execute_input": "2022-07-06T00:47:53.62588Z",
     "iopub.status.busy": "2022-07-06T00:47:53.625487Z",
     "iopub.status.idle": "2022-07-06T00:47:53.859815Z",
     "shell.execute_reply": "2022-07-06T00:47:53.858665Z",
     "shell.execute_reply.started": "2022-07-06T00:47:53.62585Z"
    }
   },
   "outputs": [],
   "source": [
    "df_output = spark.table(\"32_R_distribution\")\n",
    "df_output"
   ]
  },
  {
   "cell_type": "code",
   "execution_count": null,
   "metadata": {
    "execution": {
     "iopub.execute_input": "2022-07-06T00:48:25.688195Z",
     "iopub.status.busy": "2022-07-06T00:48:25.687782Z",
     "iopub.status.idle": "2022-07-06T00:48:25.788471Z",
     "shell.execute_reply": "2022-07-06T00:48:25.787625Z",
     "shell.execute_reply.started": "2022-07-06T00:48:25.688149Z"
    }
   },
   "outputs": [],
   "source": [
    "df_output.toPandas().to_csv('./32_R_distribution.csv')"
   ]
  },
  {
   "cell_type": "markdown",
   "metadata": {},
   "source": [
    "### 4.1 Items (80/20 model)"
   ]
  },
  {
   "cell_type": "code",
   "execution_count": null,
   "metadata": {
    "execution": {
     "iopub.execute_input": "2022-07-06T00:53:39.602237Z",
     "iopub.status.busy": "2022-07-06T00:53:39.601793Z",
     "iopub.status.idle": "2022-07-06T00:55:07.870115Z",
     "shell.execute_reply": "2022-07-06T00:55:07.868847Z",
     "shell.execute_reply.started": "2022-07-06T00:53:39.602204Z"
    }
   },
   "outputs": [],
   "source": [
    "spark.sql(\" CREATE TABLE 41_item_sale AS ( SELECT item_id,  \\\n",
    "COUNT(item_id) AS buy_count  \\\n",
    "FROM user_behavior  \\\n",
    "WHERE behavior_type = \\\"buy\\\"  \\\n",
    "GROUP BY item_id  \\\n",
    "ORDER BY buy_count) \")  \\"
   ]
  },
  {
   "cell_type": "code",
   "execution_count": null,
   "metadata": {
    "execution": {
     "iopub.execute_input": "2022-07-06T00:55:47.57161Z",
     "iopub.status.busy": "2022-07-06T00:55:47.571115Z",
     "iopub.status.idle": "2022-07-06T00:55:48.224474Z",
     "shell.execute_reply": "2022-07-06T00:55:48.22335Z",
     "shell.execute_reply.started": "2022-07-06T00:55:47.571549Z"
    }
   },
   "outputs": [],
   "source": [
    "spark.sql(\" CREATE TABLE 41_item_sales_distribution ( SELECT buy_count,  \\\n",
    "COUNT(buy_count) AS item_count \\\n",
    "FROM 41_item_sale \\\n",
    "GROUP by buy_count  \\\n",
    "ORDER by buy_count ) \")"
   ]
  },
  {
   "cell_type": "code",
   "execution_count": null,
   "metadata": {
    "execution": {
     "iopub.execute_input": "2022-07-06T00:55:50.011466Z",
     "iopub.status.busy": "2022-07-06T00:55:50.010257Z",
     "iopub.status.idle": "2022-07-06T00:55:50.165815Z",
     "shell.execute_reply": "2022-07-06T00:55:50.164702Z",
     "shell.execute_reply.started": "2022-07-06T00:55:50.011424Z"
    }
   },
   "outputs": [],
   "source": [
    "df_output = spark.table(\"41_item_sales_distribution\")\n",
    "df_output"
   ]
  },
  {
   "cell_type": "code",
   "execution_count": null,
   "metadata": {
    "execution": {
     "iopub.execute_input": "2022-07-06T00:55:59.640363Z",
     "iopub.status.busy": "2022-07-06T00:55:59.639956Z",
     "iopub.status.idle": "2022-07-06T00:55:59.716974Z",
     "shell.execute_reply": "2022-07-06T00:55:59.715945Z",
     "shell.execute_reply.started": "2022-07-06T00:55:59.640328Z"
    }
   },
   "outputs": [],
   "source": [
    "df_output.toPandas().to_csv('./41_item_sales_distribution.csv')"
   ]
  },
  {
   "cell_type": "markdown",
   "metadata": {},
   "source": [
    "### 4.1 category"
   ]
  },
  {
   "cell_type": "code",
   "execution_count": null,
   "metadata": {},
   "outputs": [],
   "source": [
    "### category sales distrub"
   ]
  },
  {
   "cell_type": "code",
   "execution_count": null,
   "metadata": {
    "execution": {
     "iopub.execute_input": "2022-07-06T00:58:30.309192Z",
     "iopub.status.busy": "2022-07-06T00:58:30.308662Z",
     "iopub.status.idle": "2022-07-06T00:59:50.596019Z",
     "shell.execute_reply": "2022-07-06T00:59:50.595106Z",
     "shell.execute_reply.started": "2022-07-06T00:58:30.309142Z"
    }
   },
   "outputs": [],
   "source": [
    "spark.sql(\" CREATE TABLE 42_cat_sale  AS ( SELECT category_id,  \\\n",
    "COUNT(category_id) AS buy_count  \\\n",
    "FROM user_behavior  \\\n",
    "WHERE behavior_type = \\\"buy\\\"  \\\n",
    "GROUP BY category_id  \\\n",
    "ORDER BY buy_count) \")  \\"
   ]
  },
  {
   "cell_type": "code",
   "execution_count": null,
   "metadata": {
    "execution": {
     "iopub.execute_input": "2022-07-06T00:59:50.598476Z",
     "iopub.status.busy": "2022-07-06T00:59:50.597885Z",
     "iopub.status.idle": "2022-07-06T00:59:51.064475Z",
     "shell.execute_reply": "2022-07-06T00:59:51.063648Z",
     "shell.execute_reply.started": "2022-07-06T00:59:50.598443Z"
    }
   },
   "outputs": [],
   "source": [
    "spark.sql(\" CREATE TABLE 42_cat_sales_distribution  ( SELECT buy_count,  \\\n",
    "COUNT(buy_count) AS cat_count \\\n",
    "FROM 42_cat_sale \\\n",
    "GROUP by buy_count  \\\n",
    "ORDER by buy_count ) \")"
   ]
  },
  {
   "cell_type": "code",
   "execution_count": null,
   "metadata": {
    "execution": {
     "iopub.execute_input": "2022-07-06T01:01:42.095918Z",
     "iopub.status.busy": "2022-07-06T01:01:42.095444Z",
     "iopub.status.idle": "2022-07-06T01:01:42.240907Z",
     "shell.execute_reply": "2022-07-06T01:01:42.239993Z",
     "shell.execute_reply.started": "2022-07-06T01:01:42.095884Z"
    }
   },
   "outputs": [],
   "source": [
    "df_output = spark.table(\"42_cat_sales_distribution \")\n",
    "df_output"
   ]
  },
  {
   "cell_type": "code",
   "execution_count": null,
   "metadata": {
    "execution": {
     "iopub.execute_input": "2022-07-06T01:01:51.545698Z",
     "iopub.status.busy": "2022-07-06T01:01:51.544391Z",
     "iopub.status.idle": "2022-07-06T01:01:51.619779Z",
     "shell.execute_reply": "2022-07-06T01:01:51.618853Z",
     "shell.execute_reply.started": "2022-07-06T01:01:51.545641Z"
    }
   },
   "outputs": [],
   "source": [
    "df_output.toPandas().to_csv('./42_cat_sales_distribution .csv')"
   ]
  },
  {
   "cell_type": "code",
   "execution_count": null,
   "metadata": {},
   "outputs": [],
   "source": []
  }
 ],
 "metadata": {
  "kernelspec": {
   "display_name": "Python 3",
   "language": "python",
   "name": "python3"
  },
  "language_info": {
   "codemirror_mode": {
    "name": "ipython",
    "version": 3
   },
   "file_extension": ".py",
   "mimetype": "text/x-python",
   "name": "python",
   "nbconvert_exporter": "python",
   "pygments_lexer": "ipython3",
   "version": "3.8.3"
  },
  "toc": {
   "base_numbering": 1,
   "nav_menu": {},
   "number_sections": true,
   "sideBar": true,
   "skip_h1_title": false,
   "title_cell": "Table of Contents",
   "title_sidebar": "Contents",
   "toc_cell": false,
   "toc_position": {},
   "toc_section_display": true,
   "toc_window_display": true
  }
 },
 "nbformat": 4,
 "nbformat_minor": 4
}
