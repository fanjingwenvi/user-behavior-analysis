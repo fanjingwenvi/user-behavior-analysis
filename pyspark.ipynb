{
 "cells": [
  {
   "cell_type": "code",
   "execution_count": 1,
   "id": "e670cdde",
   "metadata": {
    "execution": {
     "iopub.execute_input": "2022-07-05T02:37:58.645607Z",
     "iopub.status.busy": "2022-07-05T02:37:58.645165Z",
     "iopub.status.idle": "2022-07-05T02:37:58.651857Z",
     "shell.execute_reply": "2022-07-05T02:37:58.650693Z"
    },
    "papermill": {
     "duration": 0.024203,
     "end_time": "2022-07-05T02:37:58.655959",
     "exception": false,
     "start_time": "2022-07-05T02:37:58.631756",
     "status": "completed"
    },
    "tags": []
   },
   "outputs": [],
   "source": [
    "## https://www.kaggle.com/code/anninasimon/pyspark-basics-for-beginners-part-1/notebook"
   ]
  },
  {
   "cell_type": "code",
   "execution_count": 2,
   "id": "78a86153",
   "metadata": {
    "execution": {
     "iopub.execute_input": "2022-07-05T02:37:58.678532Z",
     "iopub.status.busy": "2022-07-05T02:37:58.677894Z",
     "iopub.status.idle": "2022-07-05T02:39:14.658542Z",
     "shell.execute_reply": "2022-07-05T02:39:14.656815Z"
    },
    "papermill": {
     "duration": 75.995059,
     "end_time": "2022-07-05T02:39:14.661517",
     "exception": false,
     "start_time": "2022-07-05T02:37:58.666458",
     "status": "completed"
    },
    "tags": []
   },
   "outputs": [
    {
     "name": "stdout",
     "output_type": "stream",
     "text": [
      "Collecting pyspark\r\n",
      "  Downloading pyspark-3.3.0.tar.gz (281.3 MB)\r\n",
      "\u001b[2K     \u001b[90m━━━━━━━━━━━━━━━━━━━━━━━━━━━━━━━━━━━━━━━\u001b[0m \u001b[32m281.3/281.3 MB\u001b[0m \u001b[31m2.0 MB/s\u001b[0m eta \u001b[36m0:00:00\u001b[0m\r\n",
      "\u001b[?25h  Preparing metadata (setup.py) ... \u001b[?25l-\b \b\\\b \bdone\r\n",
      "\u001b[?25hRequirement already satisfied: py4j==0.10.9.5 in /opt/conda/lib/python3.7/site-packages (from pyspark) (0.10.9.5)\r\n",
      "Building wheels for collected packages: pyspark\r\n",
      "  Building wheel for pyspark (setup.py) ... \u001b[?25l-\b \b\\\b \b|\b \b/\b \b-\b \b\\\b \b|\b \b/\b \b-\b \b\\\b \b|\b \b/\b \b-\b \b\\\b \b|\b \b/\b \b-\b \b\\\b \b|\b \b/\b \b-\b \b\\\b \b|\b \b/\b \b-\b \b\\\b \b|\b \b/\b \b-\b \b\\\b \b|\b \b/\b \b-\b \b\\\b \b|\b \b/\b \b-\b \b\\\b \b|\b \b/\b \b-\b \b\\\b \b|\b \b/\b \b-\b \b\\\b \b|\b \b/\b \b-\b \b\\\b \b|\b \b/\b \b-\b \b\\\b \b|\b \b/\b \b-\b \b\\\b \bdone\r\n",
      "\u001b[?25h  Created wheel for pyspark: filename=pyspark-3.3.0-py2.py3-none-any.whl size=281764026 sha256=748006361b764bc370ae42af3d138eef743c81c9b13e7362702675da97aff922\r\n",
      "  Stored in directory: /root/.cache/pip/wheels/7a/8e/1b/f73a52650d2e5f337708d9f6a1750d451a7349a867f928b885\r\n",
      "Successfully built pyspark\r\n",
      "Installing collected packages: pyspark\r\n",
      "Successfully installed pyspark-3.3.0\r\n",
      "\u001b[33mWARNING: Running pip as the 'root' user can result in broken permissions and conflicting behaviour with the system package manager. It is recommended to use a virtual environment instead: https://pip.pypa.io/warnings/venv\u001b[0m\u001b[33m\r\n",
      "\u001b[0mCollecting findspark\r\n",
      "  Downloading findspark-2.0.1-py2.py3-none-any.whl (4.4 kB)\r\n",
      "Installing collected packages: findspark\r\n",
      "Successfully installed findspark-2.0.1\r\n",
      "\u001b[33mWARNING: Running pip as the 'root' user can result in broken permissions and conflicting behaviour with the system package manager. It is recommended to use a virtual environment instead: https://pip.pypa.io/warnings/venv\u001b[0m\u001b[33m\r\n",
      "\u001b[0m"
     ]
    }
   ],
   "source": [
    "!pip install pyspark\n",
    "!pip install findspark"
   ]
  },
  {
   "cell_type": "code",
   "execution_count": 3,
   "id": "f193f514",
   "metadata": {
    "execution": {
     "iopub.execute_input": "2022-07-05T02:39:14.754827Z",
     "iopub.status.busy": "2022-07-05T02:39:14.753878Z",
     "iopub.status.idle": "2022-07-05T02:39:21.246141Z",
     "shell.execute_reply": "2022-07-05T02:39:21.245030Z"
    },
    "papermill": {
     "duration": 6.543142,
     "end_time": "2022-07-05T02:39:21.249726",
     "exception": false,
     "start_time": "2022-07-05T02:39:14.706584",
     "status": "completed"
    },
    "tags": []
   },
   "outputs": [
    {
     "name": "stderr",
     "output_type": "stream",
     "text": [
      "Setting default log level to \"WARN\".\n",
      "To adjust logging level use sc.setLogLevel(newLevel). For SparkR, use setLogLevel(newLevel).\n"
     ]
    },
    {
     "name": "stdout",
     "output_type": "stream",
     "text": [
      "22/07/05 02:39:18 WARN NativeCodeLoader: Unable to load native-hadoop library for your platform... using builtin-java classes where applicable\n"
     ]
    }
   ],
   "source": [
    "import findspark\n",
    "findspark.init()\n",
    "from pyspark.sql import SparkSession\n",
    "spark = SparkSession.builder.master(\"local[*]\").getOrCreate()\n",
    "spark.conf.set(\"spark.sql.repl.eagerEval.enabled\", True) # Property used to format output tables better"
   ]
  },
  {
   "cell_type": "code",
   "execution_count": 4,
   "id": "0fc4ca19",
   "metadata": {
    "execution": {
     "iopub.execute_input": "2022-07-05T02:39:21.350349Z",
     "iopub.status.busy": "2022-07-05T02:39:21.349900Z",
     "iopub.status.idle": "2022-07-05T02:39:21.364668Z",
     "shell.execute_reply": "2022-07-05T02:39:21.363467Z"
    },
    "papermill": {
     "duration": 0.064352,
     "end_time": "2022-07-05T02:39:21.367162",
     "exception": false,
     "start_time": "2022-07-05T02:39:21.302810",
     "status": "completed"
    },
    "tags": []
   },
   "outputs": [],
   "source": [
    "spark.conf.set(\"spark.sql.session.timeZone\", 'UTC+08:00')\n",
    "## SET TIME ZONE 'America/Los_Angeles';"
   ]
  },
  {
   "cell_type": "code",
   "execution_count": 5,
   "id": "52658f3a",
   "metadata": {
    "execution": {
     "iopub.execute_input": "2022-07-05T02:39:21.460501Z",
     "iopub.status.busy": "2022-07-05T02:39:21.460123Z",
     "iopub.status.idle": "2022-07-05T02:39:21.465307Z",
     "shell.execute_reply": "2022-07-05T02:39:21.463958Z"
    },
    "papermill": {
     "duration": 0.05482,
     "end_time": "2022-07-05T02:39:21.467823",
     "exception": false,
     "start_time": "2022-07-05T02:39:21.413003",
     "status": "completed"
    },
    "tags": []
   },
   "outputs": [],
   "source": [
    "from pyspark.sql import functions"
   ]
  },
  {
   "cell_type": "code",
   "execution_count": 6,
   "id": "385fbd56",
   "metadata": {
    "execution": {
     "iopub.execute_input": "2022-07-05T02:39:21.561558Z",
     "iopub.status.busy": "2022-07-05T02:39:21.561194Z",
     "iopub.status.idle": "2022-07-05T02:39:21.566082Z",
     "shell.execute_reply": "2022-07-05T02:39:21.564819Z"
    },
    "papermill": {
     "duration": 0.054544,
     "end_time": "2022-07-05T02:39:21.568676",
     "exception": false,
     "start_time": "2022-07-05T02:39:21.514132",
     "status": "completed"
    },
    "tags": []
   },
   "outputs": [],
   "source": [
    "import time "
   ]
  },
  {
   "cell_type": "code",
   "execution_count": 7,
   "id": "c9190609",
   "metadata": {
    "execution": {
     "iopub.execute_input": "2022-07-05T02:39:21.660932Z",
     "iopub.status.busy": "2022-07-05T02:39:21.660235Z",
     "iopub.status.idle": "2022-07-05T02:39:26.943771Z",
     "shell.execute_reply": "2022-07-05T02:39:26.942165Z"
    },
    "papermill": {
     "duration": 5.333537,
     "end_time": "2022-07-05T02:39:26.947422",
     "exception": false,
     "start_time": "2022-07-05T02:39:21.613885",
     "status": "completed"
    },
    "tags": []
   },
   "outputs": [
    {
     "data": {
      "text/plain": [
       "['_c0', '_c1', '_c2', '_c3', '_c4']"
      ]
     },
     "execution_count": 7,
     "metadata": {},
     "output_type": "execute_result"
    }
   ],
   "source": [
    "df=spark.read.csv(\"../input/userdata\") \n",
    "df.schema.names"
   ]
  },
  {
   "cell_type": "markdown",
   "id": "ec34d02e",
   "metadata": {
    "papermill": {
     "duration": 0.045158,
     "end_time": "2022-07-05T02:39:27.067121",
     "exception": false,
     "start_time": "2022-07-05T02:39:27.021963",
     "status": "completed"
    },
    "tags": []
   },
   "source": [
    "## 1. Data Cleaning "
   ]
  },
  {
   "cell_type": "code",
   "execution_count": 8,
   "id": "20257662",
   "metadata": {
    "execution": {
     "iopub.execute_input": "2022-07-05T02:39:27.162064Z",
     "iopub.status.busy": "2022-07-05T02:39:27.160811Z",
     "iopub.status.idle": "2022-07-05T02:39:27.194959Z",
     "shell.execute_reply": "2022-07-05T02:39:27.193557Z"
    },
    "papermill": {
     "duration": 0.085384,
     "end_time": "2022-07-05T02:39:27.197673",
     "exception": false,
     "start_time": "2022-07-05T02:39:27.112289",
     "status": "completed"
    },
    "tags": []
   },
   "outputs": [
    {
     "name": "stdout",
     "output_type": "stream",
     "text": [
      "root\n",
      " |-- user_id: string (nullable = true)\n",
      " |-- item_id: string (nullable = true)\n",
      " |-- category_id: string (nullable = true)\n",
      " |-- behavior_type: string (nullable = true)\n",
      " |-- input_timestamp: string (nullable = true)\n",
      "\n"
     ]
    }
   ],
   "source": [
    "## 1.1 column name \n",
    "df = df.toDF(\"user_id\", \"item_id\", \"category_id\", \"behavior_type\", \"input_timestamp\")\n",
    "df.printSchema()"
   ]
  },
  {
   "cell_type": "code",
   "execution_count": 9,
   "id": "c8fbcb34",
   "metadata": {
    "execution": {
     "iopub.execute_input": "2022-07-05T02:39:27.292284Z",
     "iopub.status.busy": "2022-07-05T02:39:27.291416Z",
     "iopub.status.idle": "2022-07-05T02:39:27.392362Z",
     "shell.execute_reply": "2022-07-05T02:39:27.389457Z"
    },
    "papermill": {
     "duration": 0.151648,
     "end_time": "2022-07-05T02:39:27.395030",
     "exception": true,
     "start_time": "2022-07-05T02:39:27.243382",
     "status": "failed"
    },
    "tags": []
   },
   "outputs": [
    {
     "ename": "NameError",
     "evalue": "name 'from_unixtime' is not defined",
     "output_type": "error",
     "traceback": [
      "\u001b[0;31m---------------------------------------------------------------------------\u001b[0m",
      "\u001b[0;31mNameError\u001b[0m                                 Traceback (most recent call last)",
      "\u001b[0;32m/tmp/ipykernel_19/3905486166.py\u001b[0m in \u001b[0;36m<module>\u001b[0;34m\u001b[0m\n\u001b[1;32m      1\u001b[0m \u001b[0;31m## 1.2 data format\u001b[0m\u001b[0;34m\u001b[0m\u001b[0;34m\u001b[0m\u001b[0;34m\u001b[0m\u001b[0m\n\u001b[0;32m----> 2\u001b[0;31m \u001b[0mdf\u001b[0m \u001b[0;34m=\u001b[0m \u001b[0mdf\u001b[0m\u001b[0;34m.\u001b[0m\u001b[0mwithColumn\u001b[0m\u001b[0;34m(\u001b[0m\u001b[0;34m\"tt\"\u001b[0m\u001b[0;34m,\u001b[0m \u001b[0mfrom_unixtime\u001b[0m\u001b[0;34m(\u001b[0m\u001b[0;34m\"input_timestamp\"\u001b[0m\u001b[0;34m)\u001b[0m\u001b[0;34m)\u001b[0m\u001b[0;34m\u001b[0m\u001b[0;34m\u001b[0m\u001b[0m\n\u001b[0m\u001b[1;32m      3\u001b[0m \u001b[0;31m## Unix time - Epoch time - seconds passed since Epoch time 1970-01-01 00:00:00 UTC.\u001b[0m\u001b[0;34m\u001b[0m\u001b[0;34m\u001b[0m\u001b[0;34m\u001b[0m\u001b[0m\n\u001b[1;32m      4\u001b[0m \u001b[0;31m## do not put show at the end\u001b[0m\u001b[0;34m\u001b[0m\u001b[0;34m\u001b[0m\u001b[0;34m\u001b[0m\u001b[0m\n",
      "\u001b[0;31mNameError\u001b[0m: name 'from_unixtime' is not defined"
     ]
    }
   ],
   "source": [
    "## 1.2 data format \n",
    "df = df.withColumn(\"tt\", from_unixtime(\"input_timestamp\"))\n",
    "## Unix time - Epoch time - seconds passed since Epoch time 1970-01-01 00:00:00 UTC. \n",
    "## do not put show at the end "
   ]
  },
  {
   "cell_type": "code",
   "execution_count": null,
   "id": "78d37333",
   "metadata": {
    "execution": {
     "iopub.execute_input": "2022-07-05T01:28:49.288031Z",
     "iopub.status.busy": "2022-07-05T01:28:49.287601Z",
     "iopub.status.idle": "2022-07-05T01:28:49.295036Z",
     "shell.execute_reply": "2022-07-05T01:28:49.293579Z",
     "shell.execute_reply.started": "2022-07-05T01:28:49.287997Z"
    },
    "papermill": {
     "duration": null,
     "end_time": null,
     "exception": null,
     "start_time": null,
     "status": "pending"
    },
    "tags": []
   },
   "outputs": [],
   "source": [
    "df.printSchema()"
   ]
  },
  {
   "cell_type": "code",
   "execution_count": null,
   "id": "60b34453",
   "metadata": {
    "execution": {
     "iopub.execute_input": "2022-07-05T01:28:51.076371Z",
     "iopub.status.busy": "2022-07-05T01:28:51.074661Z",
     "iopub.status.idle": "2022-07-05T01:28:51.182936Z",
     "shell.execute_reply": "2022-07-05T01:28:51.181629Z",
     "shell.execute_reply.started": "2022-07-05T01:28:51.076319Z"
    },
    "papermill": {
     "duration": null,
     "end_time": null,
     "exception": null,
     "start_time": null,
     "status": "pending"
    },
    "tags": []
   },
   "outputs": [],
   "source": [
    "df.show(5)"
   ]
  },
  {
   "cell_type": "code",
   "execution_count": null,
   "id": "91651366",
   "metadata": {
    "execution": {
     "iopub.execute_input": "2022-07-05T01:28:58.786639Z",
     "iopub.status.busy": "2022-07-05T01:28:58.785599Z",
     "iopub.status.idle": "2022-07-05T01:28:58.811042Z",
     "shell.execute_reply": "2022-07-05T01:28:58.809976Z",
     "shell.execute_reply.started": "2022-07-05T01:28:58.786590Z"
    },
    "papermill": {
     "duration": null,
     "end_time": null,
     "exception": null,
     "start_time": null,
     "status": "pending"
    },
    "tags": []
   },
   "outputs": [],
   "source": [
    "df = df.withColumn(\"d\", to_date(\"tt\")).withColumn(\"h\", hour(\"tt\"))\n",
    "## to_date and hour \n",
    "## df.withColumn(\"hour\", substring(\"timestamp\", 0, 13)).show()"
   ]
  },
  {
   "cell_type": "code",
   "execution_count": null,
   "id": "ce060f2a",
   "metadata": {
    "execution": {
     "iopub.execute_input": "2022-07-05T01:29:02.244879Z",
     "iopub.status.busy": "2022-07-05T01:29:02.244432Z",
     "iopub.status.idle": "2022-07-05T01:29:02.335807Z",
     "shell.execute_reply": "2022-07-05T01:29:02.334323Z",
     "shell.execute_reply.started": "2022-07-05T01:29:02.244841Z"
    },
    "papermill": {
     "duration": null,
     "end_time": null,
     "exception": null,
     "start_time": null,
     "status": "pending"
    },
    "tags": []
   },
   "outputs": [],
   "source": [
    "df.show(5)"
   ]
  },
  {
   "cell_type": "code",
   "execution_count": null,
   "id": "fafd379e",
   "metadata": {
    "execution": {
     "iopub.execute_input": "2022-07-05T01:29:22.085182Z",
     "iopub.status.busy": "2022-07-05T01:29:22.084706Z",
     "iopub.status.idle": "2022-07-05T01:29:22.111897Z",
     "shell.execute_reply": "2022-07-05T01:29:22.110762Z",
     "shell.execute_reply.started": "2022-07-05T01:29:22.085144Z"
    },
    "papermill": {
     "duration": null,
     "end_time": null,
     "exception": null,
     "start_time": null,
     "status": "pending"
    },
    "tags": []
   },
   "outputs": [],
   "source": [
    "## 1.2 Data Type\n",
    "\n",
    "## from pyspark.sql.types import IntegerType, DateType\n",
    "df = df.withColumn(\"d\",col(\"d\").cast(\"Date\")).withColumn(\"h\", hour(\"tt\").cast(\"Integer\"))"
   ]
  },
  {
   "cell_type": "code",
   "execution_count": null,
   "id": "d54e5212",
   "metadata": {
    "execution": {
     "iopub.execute_input": "2022-07-05T01:29:24.066259Z",
     "iopub.status.busy": "2022-07-05T01:29:24.065653Z",
     "iopub.status.idle": "2022-07-05T01:29:24.073152Z",
     "shell.execute_reply": "2022-07-05T01:29:24.071877Z",
     "shell.execute_reply.started": "2022-07-05T01:29:24.066215Z"
    },
    "papermill": {
     "duration": null,
     "end_time": null,
     "exception": null,
     "start_time": null,
     "status": "pending"
    },
    "tags": []
   },
   "outputs": [],
   "source": [
    "df.printSchema()"
   ]
  },
  {
   "cell_type": "code",
   "execution_count": null,
   "id": "5739b54f",
   "metadata": {
    "execution": {
     "iopub.execute_input": "2022-07-05T00:29:19.748945Z",
     "iopub.status.busy": "2022-07-05T00:29:19.748491Z",
     "iopub.status.idle": "2022-07-05T00:30:25.869148Z",
     "shell.execute_reply": "2022-07-05T00:30:25.866606Z",
     "shell.execute_reply.started": "2022-07-05T00:29:19.748909Z"
    },
    "papermill": {
     "duration": null,
     "end_time": null,
     "exception": null,
     "start_time": null,
     "status": "pending"
    },
    "tags": []
   },
   "outputs": [],
   "source": [
    "## 1.3 null value \n",
    "df.filter(df.user_id.isNull() & df.item_id.isNull() & df.category_id.isNull() \\\n",
    "          & df.category_id.isNull() & df.input_timestamp.isNull()).show()"
   ]
  },
  {
   "cell_type": "code",
   "execution_count": null,
   "id": "eb6a3f18",
   "metadata": {
    "execution": {
     "iopub.execute_input": "2022-07-05T01:29:44.145001Z",
     "iopub.status.busy": "2022-07-05T01:29:44.144404Z",
     "iopub.status.idle": "2022-07-05T01:29:44.151316Z",
     "shell.execute_reply": "2022-07-05T01:29:44.150105Z",
     "shell.execute_reply.started": "2022-07-05T01:29:44.144950Z"
    },
    "papermill": {
     "duration": null,
     "end_time": null,
     "exception": null,
     "start_time": null,
     "status": "pending"
    },
    "tags": []
   },
   "outputs": [],
   "source": [
    "\n",
    "## 1.4 repeated value \n",
    "## df.groupBy(\"user_id\", \"item_id\", \"category_id\", \"behavior_type\", \"input_timestamp\").count()\n",
    "## %time : long running time \n",
    "## repeated with multiple devices \n",
    "## df.dropDuplicates()\n"
   ]
  },
  {
   "cell_type": "code",
   "execution_count": null,
   "id": "226081fb",
   "metadata": {
    "execution": {
     "iopub.execute_input": "2022-07-05T01:29:52.335937Z",
     "iopub.status.busy": "2022-07-05T01:29:52.335511Z",
     "iopub.status.idle": "2022-07-05T01:30:26.636980Z",
     "shell.execute_reply": "2022-07-05T01:30:26.635517Z",
     "shell.execute_reply.started": "2022-07-05T01:29:52.335901Z"
    },
    "papermill": {
     "duration": null,
     "end_time": null,
     "exception": null,
     "start_time": null,
     "status": "pending"
    },
    "tags": []
   },
   "outputs": [],
   "source": [
    "## df.count()\n",
    "## 100150807"
   ]
  },
  {
   "cell_type": "code",
   "execution_count": null,
   "id": "ebd3cc1a",
   "metadata": {
    "execution": {
     "iopub.execute_input": "2022-07-05T01:31:13.295285Z",
     "iopub.status.busy": "2022-07-05T01:31:13.294874Z",
     "iopub.status.idle": "2022-07-05T01:31:13.317537Z",
     "shell.execute_reply": "2022-07-05T01:31:13.316102Z",
     "shell.execute_reply.started": "2022-07-05T01:31:13.295254Z"
    },
    "papermill": {
     "duration": null,
     "end_time": null,
     "exception": null,
     "start_time": null,
     "status": "pending"
    },
    "tags": []
   },
   "outputs": [],
   "source": [
    "## 1.5 anomaly \n",
    "## super long running time \n",
    "df_anomaly_lower = df.filter(df.d < '2017-11-25')\n",
    "df_anomaly_higher = df.filter(df.d > '2017-12-03')"
   ]
  },
  {
   "cell_type": "code",
   "execution_count": null,
   "id": "7592b338",
   "metadata": {
    "execution": {
     "iopub.execute_input": "2022-07-05T01:31:22.185460Z",
     "iopub.status.busy": "2022-07-05T01:31:22.185068Z",
     "iopub.status.idle": "2022-07-05T01:33:47.863500Z",
     "shell.execute_reply": "2022-07-05T01:33:47.862307Z",
     "shell.execute_reply.started": "2022-07-05T01:31:22.185427Z"
    },
    "papermill": {
     "duration": null,
     "end_time": null,
     "exception": null,
     "start_time": null,
     "status": "pending"
    },
    "tags": []
   },
   "outputs": [],
   "source": [
    "## df_anomaly_lower.count()\n",
    "## 53148"
   ]
  },
  {
   "cell_type": "code",
   "execution_count": null,
   "id": "1485e3c9",
   "metadata": {
    "execution": {
     "iopub.execute_input": "2022-07-05T01:33:48.017119Z",
     "iopub.status.busy": "2022-07-05T01:33:48.016430Z",
     "iopub.status.idle": "2022-07-05T01:36:09.696328Z",
     "shell.execute_reply": "2022-07-05T01:36:09.695422Z",
     "shell.execute_reply.started": "2022-07-05T01:33:48.017081Z"
    },
    "papermill": {
     "duration": null,
     "end_time": null,
     "exception": null,
     "start_time": null,
     "status": "pending"
    },
    "tags": []
   },
   "outputs": [],
   "source": [
    "## df_anomaly_higher.count()\n",
    "## 2428"
   ]
  },
  {
   "cell_type": "code",
   "execution_count": null,
   "id": "68668e94",
   "metadata": {
    "execution": {
     "iopub.execute_input": "2022-07-05T01:36:34.846278Z",
     "iopub.status.busy": "2022-07-05T01:36:34.845871Z",
     "iopub.status.idle": "2022-07-05T01:37:45.344262Z",
     "shell.execute_reply": "2022-07-05T01:37:45.343398Z",
     "shell.execute_reply.started": "2022-07-05T01:36:34.846245Z"
    },
    "papermill": {
     "duration": null,
     "end_time": null,
     "exception": null,
     "start_time": null,
     "status": "pending"
    },
    "tags": []
   },
   "outputs": [],
   "source": [
    "higher_sample = df_anomaly_higher.sample(False, 0.1, seed=0)\n",
    "higher_sample\n",
    "## sample with replacement (default False)."
   ]
  },
  {
   "cell_type": "code",
   "execution_count": null,
   "id": "3eb21964",
   "metadata": {
    "execution": {
     "iopub.execute_input": "2022-07-05T01:41:14.391889Z",
     "iopub.status.busy": "2022-07-05T01:41:14.391431Z",
     "iopub.status.idle": "2022-07-05T01:41:17.571874Z",
     "shell.execute_reply": "2022-07-05T01:41:17.570701Z",
     "shell.execute_reply.started": "2022-07-05T01:41:14.391849Z"
    },
    "papermill": {
     "duration": null,
     "end_time": null,
     "exception": null,
     "start_time": null,
     "status": "pending"
    },
    "tags": []
   },
   "outputs": [],
   "source": [
    "lower_sample = df_anomaly_lower.sample(False, 0.1, seed=0)\n",
    "lower_sample"
   ]
  },
  {
   "cell_type": "code",
   "execution_count": null,
   "id": "607ade3d",
   "metadata": {
    "execution": {
     "iopub.execute_input": "2022-07-05T01:52:31.350519Z",
     "iopub.status.busy": "2022-07-05T01:52:31.349967Z",
     "iopub.status.idle": "2022-07-05T01:52:31.368604Z",
     "shell.execute_reply": "2022-07-05T01:52:31.367060Z",
     "shell.execute_reply.started": "2022-07-05T01:52:31.350470Z"
    },
    "papermill": {
     "duration": null,
     "end_time": null,
     "exception": null,
     "start_time": null,
     "status": "pending"
    },
    "tags": []
   },
   "outputs": [],
   "source": [
    "df = df.filter((df.d > '2017-11-24') & (df.d < '2017-12-04') )\n",
    "## df_check.count()\n",
    "## 100095231"
   ]
  },
  {
   "cell_type": "code",
   "execution_count": null,
   "id": "8b17d024",
   "metadata": {
    "execution": {
     "iopub.execute_input": "2022-07-05T01:52:42.118565Z",
     "iopub.status.busy": "2022-07-05T01:52:42.118052Z",
     "iopub.status.idle": "2022-07-05T01:52:42.124384Z",
     "shell.execute_reply": "2022-07-05T01:52:42.122909Z",
     "shell.execute_reply.started": "2022-07-05T01:52:42.118523Z"
    },
    "papermill": {
     "duration": null,
     "end_time": null,
     "exception": null,
     "start_time": null,
     "status": "pending"
    },
    "tags": []
   },
   "outputs": [],
   "source": [
    "## row_number(): only used on partitionBy\n",
    "## df.withColumn(\"row_num\", row_number().over(Window.partitionBy(\"Group\") \n",
    "## groupBy vs partitionBy"
   ]
  },
  {
   "cell_type": "markdown",
   "id": "ac846a5a",
   "metadata": {
    "papermill": {
     "duration": null,
     "end_time": null,
     "exception": null,
     "start_time": null,
     "status": "pending"
    },
    "tags": []
   },
   "source": [
    "## 2. Data Analysis"
   ]
  },
  {
   "cell_type": "code",
   "execution_count": null,
   "id": "67dbe9d0",
   "metadata": {
    "papermill": {
     "duration": null,
     "end_time": null,
     "exception": null,
     "start_time": null,
     "status": "pending"
    },
    "tags": []
   },
   "outputs": [],
   "source": [
    "## speed up pyspark \n",
    "## https://www.mikulskibartosz.name/how-to-speed-up-pyspark/\n",
    "## spark.default.parallelism "
   ]
  },
  {
   "cell_type": "code",
   "execution_count": null,
   "id": "cda87428",
   "metadata": {
    "execution": {
     "iopub.execute_input": "2022-07-05T02:06:27.241202Z",
     "iopub.status.busy": "2022-07-05T02:06:27.240758Z",
     "iopub.status.idle": "2022-07-05T02:06:27.256474Z",
     "shell.execute_reply": "2022-07-05T02:06:27.255304Z",
     "shell.execute_reply.started": "2022-07-05T02:06:27.241165Z"
    },
    "papermill": {
     "duration": null,
     "end_time": null,
     "exception": null,
     "start_time": null,
     "status": "pending"
    },
    "tags": []
   },
   "outputs": [],
   "source": [
    "df.createOrReplaceTempView(\"user_behavior\")"
   ]
  },
  {
   "cell_type": "code",
   "execution_count": null,
   "id": "55f46fb3",
   "metadata": {
    "execution": {
     "iopub.execute_input": "2022-07-05T02:33:09.411762Z",
     "iopub.status.busy": "2022-07-05T02:33:09.411361Z",
     "iopub.status.idle": "2022-07-05T02:33:09.420289Z",
     "shell.execute_reply": "2022-07-05T02:33:09.418899Z",
     "shell.execute_reply.started": "2022-07-05T02:33:09.411730Z"
    },
    "papermill": {
     "duration": null,
     "end_time": null,
     "exception": null,
     "start_time": null,
     "status": "pending"
    },
    "tags": []
   },
   "outputs": [],
   "source": [
    "query =\"SELECT \\\n",
    "\tCOUNT(DISTINCT(user_id)) AS user_count, \\\n",
    "FROM user_behavior;\"\n",
    "    ## COUNT(*) AS index,"
   ]
  },
  {
   "cell_type": "code",
   "execution_count": null,
   "id": "94428a46",
   "metadata": {
    "execution": {
     "iopub.execute_input": "2022-07-05T02:33:11.544218Z",
     "iopub.status.busy": "2022-07-05T02:33:11.543871Z",
     "iopub.status.idle": "2022-07-05T02:33:11.550196Z",
     "shell.execute_reply": "2022-07-05T02:33:11.548916Z",
     "shell.execute_reply.started": "2022-07-05T02:33:11.544190Z"
    },
    "papermill": {
     "duration": null,
     "end_time": null,
     "exception": null,
     "start_time": null,
     "status": "pending"
    },
    "tags": []
   },
   "outputs": [],
   "source": [
    "print(query)"
   ]
  },
  {
   "cell_type": "code",
   "execution_count": null,
   "id": "9dcd4dfd",
   "metadata": {
    "papermill": {
     "duration": null,
     "end_time": null,
     "exception": null,
     "start_time": null,
     "status": "pending"
    },
    "tags": []
   },
   "outputs": [],
   "source": [
    "df01.show()\n",
    "## df01\n",
    "## long time running "
   ]
  },
  {
   "cell_type": "code",
   "execution_count": null,
   "id": "e04b4406",
   "metadata": {
    "papermill": {
     "duration": null,
     "end_time": null,
     "exception": null,
     "start_time": null,
     "status": "pending"
    },
    "tags": []
   },
   "outputs": [],
   "source": [
    "df01.write.option(\"header\",True).csv(\"./01_overview\")\n",
    "## super long"
   ]
  },
  {
   "cell_type": "code",
   "execution_count": null,
   "id": "109152c2",
   "metadata": {
    "execution": {
     "iopub.execute_input": "2022-07-05T01:56:33.536159Z",
     "iopub.status.busy": "2022-07-05T01:56:33.535695Z",
     "iopub.status.idle": "2022-07-05T01:56:33.543386Z",
     "shell.execute_reply": "2022-07-05T01:56:33.542135Z",
     "shell.execute_reply.started": "2022-07-05T01:56:33.536124Z"
    },
    "papermill": {
     "duration": null,
     "end_time": null,
     "exception": null,
     "start_time": null,
     "status": "pending"
    },
    "tags": []
   },
   "outputs": [],
   "source": [
    "query =\" \n",
    "\""
   ]
  },
  {
   "cell_type": "code",
   "execution_count": null,
   "id": "87975768",
   "metadata": {
    "papermill": {
     "duration": null,
     "end_time": null,
     "exception": null,
     "start_time": null,
     "status": "pending"
    },
    "tags": []
   },
   "outputs": [],
   "source": [
    "df00 = spark.sql(query)"
   ]
  },
  {
   "cell_type": "code",
   "execution_count": null,
   "id": "66c6f699",
   "metadata": {
    "papermill": {
     "duration": null,
     "end_time": null,
     "exception": null,
     "start_time": null,
     "status": "pending"
    },
    "tags": []
   },
   "outputs": [],
   "source": [
    "df.write.option(\"header\",True).csv(\"./name\")"
   ]
  },
  {
   "cell_type": "code",
   "execution_count": null,
   "id": "120b1c83",
   "metadata": {
    "papermill": {
     "duration": null,
     "end_time": null,
     "exception": null,
     "start_time": null,
     "status": "pending"
    },
    "tags": []
   },
   "outputs": [],
   "source": []
  },
  {
   "cell_type": "code",
   "execution_count": null,
   "id": "63095baa",
   "metadata": {
    "papermill": {
     "duration": null,
     "end_time": null,
     "exception": null,
     "start_time": null,
     "status": "pending"
    },
    "tags": []
   },
   "outputs": [],
   "source": []
  },
  {
   "cell_type": "code",
   "execution_count": null,
   "id": "688a133a",
   "metadata": {
    "papermill": {
     "duration": null,
     "end_time": null,
     "exception": null,
     "start_time": null,
     "status": "pending"
    },
    "tags": []
   },
   "outputs": [],
   "source": []
  },
  {
   "cell_type": "code",
   "execution_count": null,
   "id": "584362c8",
   "metadata": {
    "papermill": {
     "duration": null,
     "end_time": null,
     "exception": null,
     "start_time": null,
     "status": "pending"
    },
    "tags": []
   },
   "outputs": [],
   "source": []
  },
  {
   "cell_type": "code",
   "execution_count": null,
   "id": "c7d4fca3",
   "metadata": {
    "papermill": {
     "duration": null,
     "end_time": null,
     "exception": null,
     "start_time": null,
     "status": "pending"
    },
    "tags": []
   },
   "outputs": [],
   "source": []
  },
  {
   "cell_type": "code",
   "execution_count": null,
   "id": "d3c6fc3b",
   "metadata": {
    "papermill": {
     "duration": null,
     "end_time": null,
     "exception": null,
     "start_time": null,
     "status": "pending"
    },
    "tags": []
   },
   "outputs": [],
   "source": []
  }
 ],
 "metadata": {
  "kernelspec": {
   "display_name": "Python 3",
   "language": "python",
   "name": "python3"
  },
  "language_info": {
   "codemirror_mode": {
    "name": "ipython",
    "version": 3
   },
   "file_extension": ".py",
   "mimetype": "text/x-python",
   "name": "python",
   "nbconvert_exporter": "python",
   "pygments_lexer": "ipython3",
   "version": "3.7.12"
  },
  "papermill": {
   "default_parameters": {},
   "duration": 101.665921,
   "end_time": "2022-07-05T02:39:30.077822",
   "environment_variables": {},
   "exception": true,
   "input_path": "__notebook__.ipynb",
   "output_path": "__notebook__.ipynb",
   "parameters": {},
   "start_time": "2022-07-05T02:37:48.411901",
   "version": "2.3.4"
  }
 },
 "nbformat": 4,
 "nbformat_minor": 5
}
